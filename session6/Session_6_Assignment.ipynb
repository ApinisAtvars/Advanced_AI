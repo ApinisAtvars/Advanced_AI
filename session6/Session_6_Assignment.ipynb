{
  "cells": [
    {
      "cell_type": "markdown",
      "metadata": {
        "id": "Tcf3Nz2XKhXZ"
      },
      "source": [
        "Solve this exercise by using the demo notebook: Getting_Started_with_a_Movie_Recommendation_System.ipynb"
      ]
    },
    {
      "cell_type": "markdown",
      "metadata": {
        "id": "nBnMXNLaFGC6"
      },
      "source": [
        "Full path to the dataset: https://www.kaggle.com/datasets/mohamedbakhet/amazon-books-reviews?select=Books_rating.csv"
      ]
    },
    {
      "cell_type": "code",
      "execution_count": 1,
      "metadata": {
        "id": "77ZcMvhORM6_"
      },
      "outputs": [
        {
          "name": "stderr",
          "output_type": "stream",
          "text": [
            "/home/atvars/miniconda3/envs/aai_recom_sys/lib/python3.10/site-packages/tqdm/auto.py:21: TqdmWarning: IProgress not found. Please update jupyter and ipywidgets. See https://ipywidgets.readthedocs.io/en/stable/user_install.html\n",
            "  from .autonotebook import tqdm as notebook_tqdm\n"
          ]
        }
      ],
      "source": [
        "# Load packages\n",
        "\n",
        "import pandas as pd\n",
        "import numpy as np\n",
        "import matplotlib.pyplot as plt\n",
        "import os\n",
        "import kagglehub\n",
        "\n",
        "from ast import literal_eval\n",
        "from sklearn.feature_extraction.text import TfidfVectorizer\n",
        "from sklearn.metrics.pairwise import linear_kernel\n",
        "from sklearn.feature_extraction.text import CountVectorizer\n",
        "from sklearn.metrics.pairwise import cosine_similarity"
      ]
    },
    {
      "cell_type": "markdown",
      "metadata": {
        "id": "eS7YENIhHVp-"
      },
      "source": [
        "# Download the data"
      ]
    },
    {
      "cell_type": "code",
      "execution_count": 2,
      "metadata": {
        "colab": {
          "base_uri": "https://localhost:8080/"
        },
        "id": "FC4PZQ8rMdly",
        "outputId": "eaa007cc-8b79-4ef7-eea6-ff9fda108977"
      },
      "outputs": [
        {
          "name": "stdout",
          "output_type": "stream",
          "text": [
            "Data source import complete.\n"
          ]
        }
      ],
      "source": [
        "# IMPORTANT: RUN THIS CELL IN ORDER TO IMPORT YOUR KAGGLE DATA SOURCES,\n",
        "# THEN FEEL FREE TO DELETE THIS CELL.\n",
        "# NOTE: THIS NOTEBOOK ENVIRONMENT DIFFERS FROM KAGGLE'S PYTHON\n",
        "# ENVIRONMENT SO THERE MAY BE MISSING LIBRARIES USED BY YOUR\n",
        "# NOTEBOOK.\n",
        "data_path = kagglehub.dataset_download(handle=\"mohamedbakhet/amazon-books-reviews\")\n",
        "\n",
        "print('Data source import complete.')"
      ]
    },
    {
      "cell_type": "markdown",
      "metadata": {
        "id": "_2hYIPhgG3Co"
      },
      "source": [
        "# Import the data"
      ]
    },
    {
      "cell_type": "code",
      "execution_count": 3,
      "metadata": {
        "_uuid": "c1fdd129c1cbab68ae3e6bf2062575f01f80b87c",
        "id": "mghif4nEMdl3",
        "trusted": true
      },
      "outputs": [],
      "source": [
        "#Load the dataframes\n",
        "df_ratings = pd.read_csv(os.path.join(data_path, 'Books_rating.csv'))\n",
        "df_bookinfo = pd.read_csv(os.path.join(data_path, 'books_data.csv'))"
      ]
    },
    {
      "cell_type": "markdown",
      "metadata": {
        "_uuid": "402a28d17c13bba3f2060d72c2ff75f5377a9f01",
        "id": "tZTwuHLXMdl3"
      },
      "source": [
        "Describe the content of both dataframes"
      ]
    },
    {
      "cell_type": "code",
      "execution_count": 4,
      "metadata": {
        "id": "oTa3x5gXH_iH"
      },
      "outputs": [
        {
          "data": {
            "text/html": [
              "<div>\n",
              "<style scoped>\n",
              "    .dataframe tbody tr th:only-of-type {\n",
              "        vertical-align: middle;\n",
              "    }\n",
              "\n",
              "    .dataframe tbody tr th {\n",
              "        vertical-align: top;\n",
              "    }\n",
              "\n",
              "    .dataframe thead th {\n",
              "        text-align: right;\n",
              "    }\n",
              "</style>\n",
              "<table border=\"1\" class=\"dataframe\">\n",
              "  <thead>\n",
              "    <tr style=\"text-align: right;\">\n",
              "      <th></th>\n",
              "      <th>Id</th>\n",
              "      <th>Title</th>\n",
              "      <th>Price</th>\n",
              "      <th>User_id</th>\n",
              "      <th>profileName</th>\n",
              "      <th>review/helpfulness</th>\n",
              "      <th>review/score</th>\n",
              "      <th>review/time</th>\n",
              "      <th>review/summary</th>\n",
              "      <th>review/text</th>\n",
              "    </tr>\n",
              "  </thead>\n",
              "  <tbody>\n",
              "    <tr>\n",
              "      <th>0</th>\n",
              "      <td>1882931173</td>\n",
              "      <td>Its Only Art If Its Well Hung!</td>\n",
              "      <td>NaN</td>\n",
              "      <td>AVCGYZL8FQQTD</td>\n",
              "      <td>Jim of Oz \"jim-of-oz\"</td>\n",
              "      <td>7/7</td>\n",
              "      <td>4.0</td>\n",
              "      <td>940636800</td>\n",
              "      <td>Nice collection of Julie Strain images</td>\n",
              "      <td>This is only for Julie Strain fans. It's a col...</td>\n",
              "    </tr>\n",
              "    <tr>\n",
              "      <th>1</th>\n",
              "      <td>0826414346</td>\n",
              "      <td>Dr. Seuss: American Icon</td>\n",
              "      <td>NaN</td>\n",
              "      <td>A30TK6U7DNS82R</td>\n",
              "      <td>Kevin Killian</td>\n",
              "      <td>10/10</td>\n",
              "      <td>5.0</td>\n",
              "      <td>1095724800</td>\n",
              "      <td>Really Enjoyed It</td>\n",
              "      <td>I don't care much for Dr. Seuss but after read...</td>\n",
              "    </tr>\n",
              "    <tr>\n",
              "      <th>2</th>\n",
              "      <td>0826414346</td>\n",
              "      <td>Dr. Seuss: American Icon</td>\n",
              "      <td>NaN</td>\n",
              "      <td>A3UH4UZ4RSVO82</td>\n",
              "      <td>John Granger</td>\n",
              "      <td>10/11</td>\n",
              "      <td>5.0</td>\n",
              "      <td>1078790400</td>\n",
              "      <td>Essential for every personal and Public Library</td>\n",
              "      <td>If people become the books they read and if \"t...</td>\n",
              "    </tr>\n",
              "    <tr>\n",
              "      <th>3</th>\n",
              "      <td>0826414346</td>\n",
              "      <td>Dr. Seuss: American Icon</td>\n",
              "      <td>NaN</td>\n",
              "      <td>A2MVUWT453QH61</td>\n",
              "      <td>Roy E. Perry \"amateur philosopher\"</td>\n",
              "      <td>7/7</td>\n",
              "      <td>4.0</td>\n",
              "      <td>1090713600</td>\n",
              "      <td>Phlip Nel gives silly Seuss a serious treatment</td>\n",
              "      <td>Theodore Seuss Geisel (1904-1991), aka &amp;quot;D...</td>\n",
              "    </tr>\n",
              "    <tr>\n",
              "      <th>4</th>\n",
              "      <td>0826414346</td>\n",
              "      <td>Dr. Seuss: American Icon</td>\n",
              "      <td>NaN</td>\n",
              "      <td>A22X4XUPKF66MR</td>\n",
              "      <td>D. H. Richards \"ninthwavestore\"</td>\n",
              "      <td>3/3</td>\n",
              "      <td>4.0</td>\n",
              "      <td>1107993600</td>\n",
              "      <td>Good academic overview</td>\n",
              "      <td>Philip Nel - Dr. Seuss: American IconThis is b...</td>\n",
              "    </tr>\n",
              "  </tbody>\n",
              "</table>\n",
              "</div>"
            ],
            "text/plain": [
              "           Id                           Title  Price         User_id  \\\n",
              "0  1882931173  Its Only Art If Its Well Hung!    NaN   AVCGYZL8FQQTD   \n",
              "1  0826414346        Dr. Seuss: American Icon    NaN  A30TK6U7DNS82R   \n",
              "2  0826414346        Dr. Seuss: American Icon    NaN  A3UH4UZ4RSVO82   \n",
              "3  0826414346        Dr. Seuss: American Icon    NaN  A2MVUWT453QH61   \n",
              "4  0826414346        Dr. Seuss: American Icon    NaN  A22X4XUPKF66MR   \n",
              "\n",
              "                          profileName review/helpfulness  review/score  \\\n",
              "0               Jim of Oz \"jim-of-oz\"                7/7           4.0   \n",
              "1                       Kevin Killian              10/10           5.0   \n",
              "2                        John Granger              10/11           5.0   \n",
              "3  Roy E. Perry \"amateur philosopher\"                7/7           4.0   \n",
              "4     D. H. Richards \"ninthwavestore\"                3/3           4.0   \n",
              "\n",
              "   review/time                                   review/summary  \\\n",
              "0    940636800           Nice collection of Julie Strain images   \n",
              "1   1095724800                                Really Enjoyed It   \n",
              "2   1078790400  Essential for every personal and Public Library   \n",
              "3   1090713600  Phlip Nel gives silly Seuss a serious treatment   \n",
              "4   1107993600                           Good academic overview   \n",
              "\n",
              "                                         review/text  \n",
              "0  This is only for Julie Strain fans. It's a col...  \n",
              "1  I don't care much for Dr. Seuss but after read...  \n",
              "2  If people become the books they read and if \"t...  \n",
              "3  Theodore Seuss Geisel (1904-1991), aka &quot;D...  \n",
              "4  Philip Nel - Dr. Seuss: American IconThis is b...  "
            ]
          },
          "execution_count": 4,
          "metadata": {},
          "output_type": "execute_result"
        }
      ],
      "source": [
        "# Print first five rows of df_ratings\n",
        "df_ratings.head(5)"
      ]
    },
    {
      "cell_type": "markdown",
      "metadata": {},
      "source": [
        "### Ratings Df Rows:\n",
        "\n",
        "Id\n",
        "- ID of the reviewed book\n",
        "\n",
        "Title\n",
        "- Title of the book\n",
        "\n",
        "Price\n",
        "- Price of the book\n",
        "\n",
        "User_id\n",
        "- ID of the user that gave the review\n",
        "\n",
        "profileName\n",
        "- Profile name of the user that gave the review\n",
        "\n",
        "review/helpfulness\n",
        "- Amazon has a feature to mark a review as helpful or unhelpful. For example, 7/7 means 7 out of 7 people found this helpful. 10/11 means ten out of eleven people found this helpful.\n",
        "\n",
        "review/score\n",
        "- Rating of the review (out of 5)\n",
        "\n",
        "review/time\n",
        "- Time of the review (Unix time)\n",
        "\n",
        "review/summary\n",
        "- Brief summary of the review\n",
        "\n",
        "review/text\n",
        "- Full body of the review"
      ]
    },
    {
      "cell_type": "code",
      "execution_count": 5,
      "metadata": {
        "id": "Xtq0oienKMve"
      },
      "outputs": [
        {
          "data": {
            "text/html": [
              "<div>\n",
              "<style scoped>\n",
              "    .dataframe tbody tr th:only-of-type {\n",
              "        vertical-align: middle;\n",
              "    }\n",
              "\n",
              "    .dataframe tbody tr th {\n",
              "        vertical-align: top;\n",
              "    }\n",
              "\n",
              "    .dataframe thead th {\n",
              "        text-align: right;\n",
              "    }\n",
              "</style>\n",
              "<table border=\"1\" class=\"dataframe\">\n",
              "  <thead>\n",
              "    <tr style=\"text-align: right;\">\n",
              "      <th></th>\n",
              "      <th>Title</th>\n",
              "      <th>description</th>\n",
              "      <th>authors</th>\n",
              "      <th>image</th>\n",
              "      <th>previewLink</th>\n",
              "      <th>publisher</th>\n",
              "      <th>publishedDate</th>\n",
              "      <th>infoLink</th>\n",
              "      <th>categories</th>\n",
              "      <th>ratingsCount</th>\n",
              "    </tr>\n",
              "  </thead>\n",
              "  <tbody>\n",
              "    <tr>\n",
              "      <th>0</th>\n",
              "      <td>Its Only Art If Its Well Hung!</td>\n",
              "      <td>NaN</td>\n",
              "      <td>['Julie Strain']</td>\n",
              "      <td>http://books.google.com/books/content?id=DykPA...</td>\n",
              "      <td>http://books.google.nl/books?id=DykPAAAACAAJ&amp;d...</td>\n",
              "      <td>NaN</td>\n",
              "      <td>1996</td>\n",
              "      <td>http://books.google.nl/books?id=DykPAAAACAAJ&amp;d...</td>\n",
              "      <td>['Comics &amp; Graphic Novels']</td>\n",
              "      <td>NaN</td>\n",
              "    </tr>\n",
              "    <tr>\n",
              "      <th>1</th>\n",
              "      <td>Dr. Seuss: American Icon</td>\n",
              "      <td>Philip Nel takes a fascinating look into the k...</td>\n",
              "      <td>['Philip Nel']</td>\n",
              "      <td>http://books.google.com/books/content?id=IjvHQ...</td>\n",
              "      <td>http://books.google.nl/books?id=IjvHQsCn_pgC&amp;p...</td>\n",
              "      <td>A&amp;C Black</td>\n",
              "      <td>2005-01-01</td>\n",
              "      <td>http://books.google.nl/books?id=IjvHQsCn_pgC&amp;d...</td>\n",
              "      <td>['Biography &amp; Autobiography']</td>\n",
              "      <td>NaN</td>\n",
              "    </tr>\n",
              "    <tr>\n",
              "      <th>2</th>\n",
              "      <td>Wonderful Worship in Smaller Churches</td>\n",
              "      <td>This resource includes twelve principles in un...</td>\n",
              "      <td>['David R. Ray']</td>\n",
              "      <td>http://books.google.com/books/content?id=2tsDA...</td>\n",
              "      <td>http://books.google.nl/books?id=2tsDAAAACAAJ&amp;d...</td>\n",
              "      <td>NaN</td>\n",
              "      <td>2000</td>\n",
              "      <td>http://books.google.nl/books?id=2tsDAAAACAAJ&amp;d...</td>\n",
              "      <td>['Religion']</td>\n",
              "      <td>NaN</td>\n",
              "    </tr>\n",
              "    <tr>\n",
              "      <th>3</th>\n",
              "      <td>Whispers of the Wicked Saints</td>\n",
              "      <td>Julia Thomas finds her life spinning out of co...</td>\n",
              "      <td>['Veronica Haddon']</td>\n",
              "      <td>http://books.google.com/books/content?id=aRSIg...</td>\n",
              "      <td>http://books.google.nl/books?id=aRSIgJlq6JwC&amp;d...</td>\n",
              "      <td>iUniverse</td>\n",
              "      <td>2005-02</td>\n",
              "      <td>http://books.google.nl/books?id=aRSIgJlq6JwC&amp;d...</td>\n",
              "      <td>['Fiction']</td>\n",
              "      <td>NaN</td>\n",
              "    </tr>\n",
              "    <tr>\n",
              "      <th>4</th>\n",
              "      <td>Nation Dance: Religion, Identity and Cultural ...</td>\n",
              "      <td>NaN</td>\n",
              "      <td>['Edward Long']</td>\n",
              "      <td>NaN</td>\n",
              "      <td>http://books.google.nl/books?id=399SPgAACAAJ&amp;d...</td>\n",
              "      <td>NaN</td>\n",
              "      <td>2003-03-01</td>\n",
              "      <td>http://books.google.nl/books?id=399SPgAACAAJ&amp;d...</td>\n",
              "      <td>NaN</td>\n",
              "      <td>NaN</td>\n",
              "    </tr>\n",
              "  </tbody>\n",
              "</table>\n",
              "</div>"
            ],
            "text/plain": [
              "                                               Title  \\\n",
              "0                     Its Only Art If Its Well Hung!   \n",
              "1                           Dr. Seuss: American Icon   \n",
              "2              Wonderful Worship in Smaller Churches   \n",
              "3                      Whispers of the Wicked Saints   \n",
              "4  Nation Dance: Religion, Identity and Cultural ...   \n",
              "\n",
              "                                         description              authors  \\\n",
              "0                                                NaN     ['Julie Strain']   \n",
              "1  Philip Nel takes a fascinating look into the k...       ['Philip Nel']   \n",
              "2  This resource includes twelve principles in un...     ['David R. Ray']   \n",
              "3  Julia Thomas finds her life spinning out of co...  ['Veronica Haddon']   \n",
              "4                                                NaN      ['Edward Long']   \n",
              "\n",
              "                                               image  \\\n",
              "0  http://books.google.com/books/content?id=DykPA...   \n",
              "1  http://books.google.com/books/content?id=IjvHQ...   \n",
              "2  http://books.google.com/books/content?id=2tsDA...   \n",
              "3  http://books.google.com/books/content?id=aRSIg...   \n",
              "4                                                NaN   \n",
              "\n",
              "                                         previewLink  publisher publishedDate  \\\n",
              "0  http://books.google.nl/books?id=DykPAAAACAAJ&d...        NaN          1996   \n",
              "1  http://books.google.nl/books?id=IjvHQsCn_pgC&p...  A&C Black    2005-01-01   \n",
              "2  http://books.google.nl/books?id=2tsDAAAACAAJ&d...        NaN          2000   \n",
              "3  http://books.google.nl/books?id=aRSIgJlq6JwC&d...  iUniverse       2005-02   \n",
              "4  http://books.google.nl/books?id=399SPgAACAAJ&d...        NaN    2003-03-01   \n",
              "\n",
              "                                            infoLink  \\\n",
              "0  http://books.google.nl/books?id=DykPAAAACAAJ&d...   \n",
              "1  http://books.google.nl/books?id=IjvHQsCn_pgC&d...   \n",
              "2  http://books.google.nl/books?id=2tsDAAAACAAJ&d...   \n",
              "3  http://books.google.nl/books?id=aRSIgJlq6JwC&d...   \n",
              "4  http://books.google.nl/books?id=399SPgAACAAJ&d...   \n",
              "\n",
              "                      categories  ratingsCount  \n",
              "0    ['Comics & Graphic Novels']           NaN  \n",
              "1  ['Biography & Autobiography']           NaN  \n",
              "2                   ['Religion']           NaN  \n",
              "3                    ['Fiction']           NaN  \n",
              "4                            NaN           NaN  "
            ]
          },
          "execution_count": 5,
          "metadata": {},
          "output_type": "execute_result"
        }
      ],
      "source": [
        "# Print first five rows of df_bookinfo\n",
        "df_bookinfo.head(5)"
      ]
    },
    {
      "cell_type": "markdown",
      "metadata": {},
      "source": [
        "Title\n",
        "- Title of the book\n",
        "\n",
        "description\n",
        "- Description of the book\n",
        "\n",
        "authors\n",
        "- List of authors for the book\n",
        "\n",
        "image\n",
        "- Link to cover image of the book\n",
        "\n",
        "previewLink\n",
        "- Link to a small preview of the book, which can be accessed for free\n",
        "\n",
        "publisher\n",
        "- Publisher of the book\n",
        "\n",
        "publishedDate\n",
        "- Date that the book was released\n",
        "\n",
        "infoLink\n",
        "- Link to get more information about the book\n",
        "\n",
        "categories\n",
        "- Genres of the book\n",
        "\n",
        "ratingsCount\n",
        "- Number or reviews for the book"
      ]
    },
    {
      "cell_type": "markdown",
      "metadata": {
        "id": "SlcOxAlIP4Bg"
      },
      "source": [
        "# Process the data"
      ]
    },
    {
      "cell_type": "code",
      "execution_count": 6,
      "metadata": {
        "id": "jw1T5POkP7as"
      },
      "outputs": [],
      "source": [
        "# We need the vote_count and vote_average to calculate the metric below. We will calculate these with df_ratings\n",
        "# In df_ratings, calculate the vote average and vote count per book based on review/score column\n",
        "grouped_ratings_df = df_ratings.groupby('Title').agg(\n",
        "    vote_average=('review/score', 'mean'),\n",
        "    vote_count=('review/score', 'count')\n",
        ").reset_index()"
      ]
    },
    {
      "cell_type": "code",
      "execution_count": 7,
      "metadata": {},
      "outputs": [
        {
          "data": {
            "text/html": [
              "<div>\n",
              "<style scoped>\n",
              "    .dataframe tbody tr th:only-of-type {\n",
              "        vertical-align: middle;\n",
              "    }\n",
              "\n",
              "    .dataframe tbody tr th {\n",
              "        vertical-align: top;\n",
              "    }\n",
              "\n",
              "    .dataframe thead th {\n",
              "        text-align: right;\n",
              "    }\n",
              "</style>\n",
              "<table border=\"1\" class=\"dataframe\">\n",
              "  <thead>\n",
              "    <tr style=\"text-align: right;\">\n",
              "      <th></th>\n",
              "      <th>Title</th>\n",
              "      <th>vote_average</th>\n",
              "      <th>vote_count</th>\n",
              "    </tr>\n",
              "  </thead>\n",
              "  <tbody>\n",
              "    <tr>\n",
              "      <th>0</th>\n",
              "      <td>\" Film technique, \" and, \" Film acting \"</td>\n",
              "      <td>4.500</td>\n",
              "      <td>2</td>\n",
              "    </tr>\n",
              "    <tr>\n",
              "      <th>1</th>\n",
              "      <td>\" We'll Always Have Paris\": The Definitive Gui...</td>\n",
              "      <td>5.000</td>\n",
              "      <td>2</td>\n",
              "    </tr>\n",
              "    <tr>\n",
              "      <th>2</th>\n",
              "      <td>\"... And Poetry is Born ...\" Russian Classical...</td>\n",
              "      <td>4.000</td>\n",
              "      <td>1</td>\n",
              "    </tr>\n",
              "    <tr>\n",
              "      <th>3</th>\n",
              "      <td>\"A Titanic hero\" Thomas Andrews, shipbuilder</td>\n",
              "      <td>4.875</td>\n",
              "      <td>8</td>\n",
              "    </tr>\n",
              "    <tr>\n",
              "      <th>4</th>\n",
              "      <td>\"A Truthful Impression of the Country\": Britis...</td>\n",
              "      <td>4.000</td>\n",
              "      <td>1</td>\n",
              "    </tr>\n",
              "  </tbody>\n",
              "</table>\n",
              "</div>"
            ],
            "text/plain": [
              "                                               Title  vote_average  vote_count\n",
              "0           \" Film technique, \" and, \" Film acting \"         4.500           2\n",
              "1  \" We'll Always Have Paris\": The Definitive Gui...         5.000           2\n",
              "2  \"... And Poetry is Born ...\" Russian Classical...         4.000           1\n",
              "3       \"A Titanic hero\" Thomas Andrews, shipbuilder         4.875           8\n",
              "4  \"A Truthful Impression of the Country\": Britis...         4.000           1"
            ]
          },
          "execution_count": 7,
          "metadata": {},
          "output_type": "execute_result"
        }
      ],
      "source": [
        "grouped_ratings_df.head(5)"
      ]
    },
    {
      "cell_type": "code",
      "execution_count": 8,
      "metadata": {
        "id": "tt12iHNPRW9t"
      },
      "outputs": [],
      "source": [
        "# Merge df_bookinfo with vote_count and vote_average\n",
        "merged_bookinfo = pd.merge(df_bookinfo, grouped_ratings_df, how='left', left_on=\"Title\", right_on='Title')"
      ]
    },
    {
      "cell_type": "code",
      "execution_count": 9,
      "metadata": {
        "id": "KSCVszq63_iR"
      },
      "outputs": [
        {
          "data": {
            "text/plain": [
              "(20000, 12)"
            ]
          },
          "execution_count": 9,
          "metadata": {},
          "output_type": "execute_result"
        }
      ],
      "source": [
        "# Select the first 20000 books, otherwise it will be difficult to do the calculations below with your RAM\n",
        "bookinfo_slice = merged_bookinfo.iloc[:20000, :].copy()\n",
        "bookinfo_slice.shape"
      ]
    },
    {
      "cell_type": "markdown",
      "metadata": {
        "_uuid": "ee603279675033fc397f0c94738e20b34f35312b",
        "id": "I0VkqvGvMdl4"
      },
      "source": [
        "# **Demographic Filtering** -\n",
        "   Before getting started with this  -\n",
        "* we need a metric to score or rate a book\n",
        "* Calculate the score for every book\n",
        "* Sort the scores and recommend the best rated book to the users.\n",
        "\n",
        "We can use the average ratings of the book as the score but using this won't be fair enough since a book with 4.5 average rating and only 3 votes cannot be considered better than the book with 3.9 as as average rating but 40 votes.\n",
        "So, I'll be using IMDB's weighted rating (wr) which is given as :-\n",
        "\n",
        "![](https://image.ibb.co/jYWZp9/wr.png)\n",
        "where,\n",
        "* v is the number of votes for the movie;\n",
        "* m is the minimum votes required to be listed in the chart;\n",
        "* R is the average rating of the movie; And\n",
        "* C is the mean vote across the whole report\n",
        "\n",
        "Now apply this on the books dataset instead of on movies.\n",
        "\n",
        "We already have v(**vote_count**) and R (**vote_average**) and C can be calculated as"
      ]
    },
    {
      "cell_type": "code",
      "execution_count": 10,
      "metadata": {
        "_uuid": "5799b99c5e5ed5b7723ae8b31e1fc9fb1e7b89ec",
        "id": "u8IS1fL2Mdl4",
        "trusted": true
      },
      "outputs": [
        {
          "data": {
            "text/plain": [
              "4.262029678317345"
            ]
          },
          "execution_count": 10,
          "metadata": {},
          "output_type": "execute_result"
        }
      ],
      "source": [
        "# Calculate C\n",
        "C = bookinfo_slice['vote_average'].mean()\n",
        "C"
      ]
    },
    {
      "cell_type": "markdown",
      "metadata": {
        "_uuid": "02fa8642f75bcef6d4a79e029af6dfeebf19e3a5",
        "id": "_eS4P3hXMdl4"
      },
      "source": [
        "So, the mean rating for all the books is approx 4.3 on a scale of 5.The next step is to determine an appropriate value for m, the minimum votes required to be listed in the chart. We will use 90th percentile as our cutoff. In other words, for a book to feature in the charts, it must have more votes than at least 90% of the book in the list."
      ]
    },
    {
      "cell_type": "code",
      "execution_count": 11,
      "metadata": {
        "id": "ScpZHsTgWFdK"
      },
      "outputs": [
        {
          "data": {
            "text/plain": [
              "24.0"
            ]
          },
          "execution_count": 11,
          "metadata": {},
          "output_type": "execute_result"
        }
      ],
      "source": [
        "# calculate m\n",
        "m = bookinfo_slice['vote_count'].quantile(0.9)\n",
        "m"
      ]
    },
    {
      "cell_type": "markdown",
      "metadata": {
        "_uuid": "b77dea5a38ca2c399e3abeac1487e784fe146078",
        "id": "3D8gC76MMdl4"
      },
      "source": [
        "Now, we can filter out the books that qualify for the chart"
      ]
    },
    {
      "cell_type": "code",
      "execution_count": 12,
      "metadata": {
        "_uuid": "a22008df6d81d3b716d39a56efd3d547345bfbce",
        "id": "ykU3k8a4Mdl4",
        "trusted": true
      },
      "outputs": [
        {
          "data": {
            "text/plain": [
              "(2025, 12)"
            ]
          },
          "execution_count": 12,
          "metadata": {},
          "output_type": "execute_result"
        }
      ],
      "source": [
        "# filter out the books that qualify for the chart\n",
        "q_books = bookinfo_slice.copy().loc[bookinfo_slice['vote_count'] >= m]\n",
        "q_books.shape"
      ]
    },
    {
      "cell_type": "markdown",
      "metadata": {
        "_uuid": "cf1fe5a3692caee41a6e7a74c3fde6aeb8a62947",
        "id": "OCikBRtcMdl4"
      },
      "source": [
        "We see that there are 2025 books which qualify to be in this list. Now, we need to calculate our metric for each qualified book. To do this, we will define a function, **weighted_rating()** and define a new feature **score**, of which we'll calculate the value by applying this function to our DataFrame of qualified books:"
      ]
    },
    {
      "cell_type": "code",
      "execution_count": 13,
      "metadata": {
        "_uuid": "bb680ed0fb1c3020785d34152c57c6e2279d4424",
        "id": "gkAyBPq1Mdl5",
        "trusted": true
      },
      "outputs": [],
      "source": [
        "# Construct a weighted_rating function that calculates the metric for each qualified book\n",
        "def weighted_rating(x, m=m, C=C):\n",
        "    v = x['vote_count']\n",
        "    R = x['vote_average']\n",
        "    # Calculation based on the IMDB formula\n",
        "    return (v/(v+m) * R) + (m/(m+v) * C)"
      ]
    },
    {
      "cell_type": "code",
      "execution_count": 14,
      "metadata": {
        "_uuid": "d2d189929715237ab19a18fb8747239b86092968",
        "id": "MhDDrOfwMdl5",
        "trusted": true
      },
      "outputs": [],
      "source": [
        "# Define a new feature 'score' and calculate its value with `weighted_rating()`\n",
        "q_books['score'] = q_books.apply(weighted_rating, axis=1)"
      ]
    },
    {
      "cell_type": "markdown",
      "metadata": {
        "_uuid": "4cdd60c146173606146ec4fc3a1c9d8c184cb81c",
        "id": "XniqJujQMdl6"
      },
      "source": [
        "Finally, let's sort the DataFrame based on the score feature and output the title, vote count, vote average and weighted rating or score of the top 10 books."
      ]
    },
    {
      "cell_type": "code",
      "execution_count": 15,
      "metadata": {
        "_uuid": "a9a9fc3810ea67c31908bbdf8bb930daa918102b",
        "id": "a5yX-X_CMdl6",
        "trusted": true
      },
      "outputs": [
        {
          "data": {
            "text/html": [
              "<div>\n",
              "<style scoped>\n",
              "    .dataframe tbody tr th:only-of-type {\n",
              "        vertical-align: middle;\n",
              "    }\n",
              "\n",
              "    .dataframe tbody tr th {\n",
              "        vertical-align: top;\n",
              "    }\n",
              "\n",
              "    .dataframe thead th {\n",
              "        text-align: right;\n",
              "    }\n",
              "</style>\n",
              "<table border=\"1\" class=\"dataframe\">\n",
              "  <thead>\n",
              "    <tr style=\"text-align: right;\">\n",
              "      <th></th>\n",
              "      <th>Title</th>\n",
              "      <th>vote_count</th>\n",
              "      <th>vote_average</th>\n",
              "      <th>score</th>\n",
              "    </tr>\n",
              "  </thead>\n",
              "  <tbody>\n",
              "    <tr>\n",
              "      <th>4991</th>\n",
              "      <td>Betty Crocker's cooky book</td>\n",
              "      <td>233.0</td>\n",
              "      <td>4.909871</td>\n",
              "      <td>4.849372</td>\n",
              "    </tr>\n",
              "    <tr>\n",
              "      <th>9718</th>\n",
              "      <td>Little Britches</td>\n",
              "      <td>192.0</td>\n",
              "      <td>4.916667</td>\n",
              "      <td>4.843929</td>\n",
              "    </tr>\n",
              "    <tr>\n",
              "      <th>19151</th>\n",
              "      <td>The Valley of Vision: a Collection of Puritan ...</td>\n",
              "      <td>179.0</td>\n",
              "      <td>4.921788</td>\n",
              "      <td>4.843787</td>\n",
              "    </tr>\n",
              "    <tr>\n",
              "      <th>11988</th>\n",
              "      <td>Mossflower</td>\n",
              "      <td>313.0</td>\n",
              "      <td>4.872204</td>\n",
              "      <td>4.828750</td>\n",
              "    </tr>\n",
              "    <tr>\n",
              "      <th>15230</th>\n",
              "      <td>The Synonym Finder</td>\n",
              "      <td>307.0</td>\n",
              "      <td>4.863192</td>\n",
              "      <td>4.819603</td>\n",
              "    </tr>\n",
              "    <tr>\n",
              "      <th>4671</th>\n",
              "      <td>Angelique: The Marquise of the Angels</td>\n",
              "      <td>87.0</td>\n",
              "      <td>4.954023</td>\n",
              "      <td>4.804403</td>\n",
              "    </tr>\n",
              "    <tr>\n",
              "      <th>13706</th>\n",
              "      <td>The Family Nobody Wanted</td>\n",
              "      <td>140.0</td>\n",
              "      <td>4.885714</td>\n",
              "      <td>4.794443</td>\n",
              "    </tr>\n",
              "    <tr>\n",
              "      <th>12227</th>\n",
              "      <td>Anne of the Island</td>\n",
              "      <td>249.0</td>\n",
              "      <td>4.843373</td>\n",
              "      <td>4.792266</td>\n",
              "    </tr>\n",
              "    <tr>\n",
              "      <th>16334</th>\n",
              "      <td>The Happy Hollisters (The Happy Hollisters, No...</td>\n",
              "      <td>107.0</td>\n",
              "      <td>4.906542</td>\n",
              "      <td>4.788463</td>\n",
              "    </tr>\n",
              "    <tr>\n",
              "      <th>12044</th>\n",
              "      <td>Why revival tarries,</td>\n",
              "      <td>69.0</td>\n",
              "      <td>4.971014</td>\n",
              "      <td>4.788051</td>\n",
              "    </tr>\n",
              "  </tbody>\n",
              "</table>\n",
              "</div>"
            ],
            "text/plain": [
              "                                                   Title  vote_count  \\\n",
              "4991                          Betty Crocker's cooky book       233.0   \n",
              "9718                                     Little Britches       192.0   \n",
              "19151  The Valley of Vision: a Collection of Puritan ...       179.0   \n",
              "11988                                         Mossflower       313.0   \n",
              "15230                                 The Synonym Finder       307.0   \n",
              "4671               Angelique: The Marquise of the Angels        87.0   \n",
              "13706                           The Family Nobody Wanted       140.0   \n",
              "12227                                 Anne of the Island       249.0   \n",
              "16334  The Happy Hollisters (The Happy Hollisters, No...       107.0   \n",
              "12044                               Why revival tarries,        69.0   \n",
              "\n",
              "       vote_average     score  \n",
              "4991       4.909871  4.849372  \n",
              "9718       4.916667  4.843929  \n",
              "19151      4.921788  4.843787  \n",
              "11988      4.872204  4.828750  \n",
              "15230      4.863192  4.819603  \n",
              "4671       4.954023  4.804403  \n",
              "13706      4.885714  4.794443  \n",
              "12227      4.843373  4.792266  \n",
              "16334      4.906542  4.788463  \n",
              "12044      4.971014  4.788051  "
            ]
          },
          "execution_count": 15,
          "metadata": {},
          "output_type": "execute_result"
        }
      ],
      "source": [
        "#Sort books based on score calculated above and print the top 10 books\n",
        "#Sort books based on score calculated above\n",
        "q_books = q_books.sort_values('score', ascending=False)\n",
        "\n",
        "#Print the top 10 books\n",
        "q_books[['Title', 'vote_count', 'vote_average', 'score']].head(10)"
      ]
    },
    {
      "cell_type": "markdown",
      "metadata": {
        "_uuid": "7625c6d5bd647f4f75eafd7880b7ca2d07938cf7",
        "id": "pp0NsXmlMdl6"
      },
      "source": [
        "Hurray! We have made our first(though very basic) recommender.\n",
        "Under the **Trending Now** tab of these systems we find books that are very popular and they can just be obtained by sorting the dataset by the popularity column."
      ]
    },
    {
      "cell_type": "code",
      "execution_count": 16,
      "metadata": {},
      "outputs": [],
      "source": [
        "last_month_ratings = df_ratings[df_ratings['review/time'] < (df_ratings['review/time'].max() - 30*24*60*60)]\n",
        "last_month_ratings = last_month_ratings['Title'].value_counts()"
      ]
    },
    {
      "cell_type": "code",
      "execution_count": 17,
      "metadata": {},
      "outputs": [
        {
          "data": {
            "text/html": [
              "<div>\n",
              "<style scoped>\n",
              "    .dataframe tbody tr th:only-of-type {\n",
              "        vertical-align: middle;\n",
              "    }\n",
              "\n",
              "    .dataframe tbody tr th {\n",
              "        vertical-align: top;\n",
              "    }\n",
              "\n",
              "    .dataframe thead th {\n",
              "        text-align: right;\n",
              "    }\n",
              "</style>\n",
              "<table border=\"1\" class=\"dataframe\">\n",
              "  <thead>\n",
              "    <tr style=\"text-align: right;\">\n",
              "      <th></th>\n",
              "      <th>Title</th>\n",
              "      <th>count</th>\n",
              "    </tr>\n",
              "  </thead>\n",
              "  <tbody>\n",
              "    <tr>\n",
              "      <th>0</th>\n",
              "      <td>The Hobbit</td>\n",
              "      <td>20252</td>\n",
              "    </tr>\n",
              "    <tr>\n",
              "      <th>1</th>\n",
              "      <td>Pride and Prejudice</td>\n",
              "      <td>18603</td>\n",
              "    </tr>\n",
              "    <tr>\n",
              "      <th>2</th>\n",
              "      <td>Atlas Shrugged</td>\n",
              "      <td>12324</td>\n",
              "    </tr>\n",
              "    <tr>\n",
              "      <th>3</th>\n",
              "      <td>Wuthering Heights</td>\n",
              "      <td>10200</td>\n",
              "    </tr>\n",
              "    <tr>\n",
              "      <th>4</th>\n",
              "      <td>The Giver</td>\n",
              "      <td>7526</td>\n",
              "    </tr>\n",
              "  </tbody>\n",
              "</table>\n",
              "</div>"
            ],
            "text/plain": [
              "                 Title  count\n",
              "0           The Hobbit  20252\n",
              "1  Pride and Prejudice  18603\n",
              "2       Atlas Shrugged  12324\n",
              "3    Wuthering Heights  10200\n",
              "4            The Giver   7526"
            ]
          },
          "execution_count": 17,
          "metadata": {},
          "output_type": "execute_result"
        }
      ],
      "source": [
        "# Print the five most popular books based on the review/time column in df_ratings. Take all reviews into account of the last month in the dataset.\n",
        "last_month_ratings = last_month_ratings.reset_index()\n",
        "last_month_ratings.head()"
      ]
    },
    {
      "cell_type": "code",
      "execution_count": 18,
      "metadata": {},
      "outputs": [],
      "source": [
        "# Head of the merged dataframe\n",
        "top_books_df = pd.merge(last_month_ratings, q_books, how='left', left_on='Title', right_on='Title')"
      ]
    },
    {
      "cell_type": "code",
      "execution_count": 19,
      "metadata": {
        "id": "OphMU0MtY__s"
      },
      "outputs": [
        {
          "data": {
            "text/plain": [
              "Text(0.5, 1.0, 'Popular Books')"
            ]
          },
          "execution_count": 19,
          "metadata": {},
          "output_type": "execute_result"
        },
        {
          "data": {
            "image/png": "[encoded data removed]",
            "text/plain": [
              "<Figure size 1200x400 with 1 Axes>"
            ]
          },
          "metadata": {},
          "output_type": "display_data"
        }
      ],
      "source": [
        "# Make a bar plot of the 5 most popular books\n",
        "pop = top_books_df\n",
        "plt.figure(figsize=(12,4))\n",
        "\n",
        "plt.barh(pop['Title'].head(5),pop['count'].head(5), align='center',\n",
        "        color='skyblue')\n",
        "plt.gca().invert_yaxis()\n",
        "plt.xlabel(\"Popularity (Number of reviews last month)\")\n",
        "plt.title(\"Popular Books\")"
      ]
    },
    {
      "cell_type": "markdown",
      "metadata": {
        "_uuid": "d1cf28fc0c22afa80edc6d464177035357721d35",
        "id": "1abCR2rKMdl6"
      },
      "source": [
        "Now something to keep in mind is that these demographic recommender provide a general chart of recommended books to all the users. They are not sensitive to the interests and tastes of a particular user.\n",
        "This is when we move on to a more refined system-  Content Based Filtering."
      ]
    },
    {
      "cell_type": "markdown",
      "metadata": {
        "_uuid": "fe716df6e5e5a354ac53d556087147c0a64df2cc",
        "id": "WV5n5ggSMdl6"
      },
      "source": [
        "# **Content Based Filtering**\n",
        "In this recommender system the content of the book is used to find its similarity with other books. Then the books that are most likely to be similar are recommended."
      ]
    },
    {
      "cell_type": "markdown",
      "metadata": {
        "_uuid": "b0a813c803b0ba1f0204188ab2a63dc7f59ce2eb",
        "id": "ZCYGIE1gMdl7"
      },
      "source": [
        "## **Plot description based Recommender**\n",
        "\n",
        "We will compute pairwise similarity scores for all books based on their plot descriptions and recommend books based on that similarity score. The plot description is given in the **overview** feature of our dataset.\n",
        "Let's take a look at the data. .."
      ]
    },
    {
      "cell_type": "code",
      "execution_count": 20,
      "metadata": {
        "_uuid": "5e676c38ace04a24205b76b16dac0fa3e058027f",
        "id": "nBFlMf2qMdl7",
        "trusted": true
      },
      "outputs": [
        {
          "data": {
            "text/plain": [
              "0                                                  NaN\n",
              "1    Philip Nel takes a fascinating look into the k...\n",
              "2    This resource includes twelve principles in un...\n",
              "3    Julia Thomas finds her life spinning out of co...\n",
              "4                                                  NaN\n",
              "Name: description, dtype: object"
            ]
          },
          "execution_count": 20,
          "metadata": {},
          "output_type": "execute_result"
        }
      ],
      "source": [
        "# Display the first five rows of the 'description' column in bookinfo\n",
        "bookinfo_slice['description'].head(5)"
      ]
    },
    {
      "cell_type": "markdown",
      "metadata": {
        "_uuid": "277a9bb5b00a6bd2469c45777f9c659066f402b3",
        "id": "idyPMcxUMdl7"
      },
      "source": [
        "For any of you who has done even a  bit of text processing before knows we need to convert the word vector of each overview.\n",
        "Now we'll compute Term Frequency-Inverse Document Frequency (TF-IDF) vectors for each overview.\n",
        "\n",
        "Now if you are wondering what is term frequency , it is the relative frequency of a word in a document and is given as\n",
        "   **(term instances/total instances)**.\n",
        "Inverse Document Frequency is the relative count of documents containing the term is given as\n",
        "**log(number of documents/documents with term)**\n",
        "The overall importance of each word to the documents in which they appear is equal to **TF * IDF**\n",
        "\n",
        "This will give you a matrix where each column represents a word in the overview vocabulary (all the words that appear in at least one document) and each row represents a book, as before.This is done to reduce the importance of words that occur frequently in plot overviews and therefore, their significance in computing the final similarity score.\n",
        "\n",
        "Fortunately, scikit-learn gives you a built-in TfIdfVectorizer class that produces the TF-IDF matrix in a couple of lines. That's great, isn't it?"
      ]
    },
    {
      "cell_type": "code",
      "execution_count": 21,
      "metadata": {},
      "outputs": [],
      "source": [
        "from sklearn.feature_extraction.text import TfidfVectorizer"
      ]
    },
    {
      "cell_type": "code",
      "execution_count": 22,
      "metadata": {
        "_uuid": "a92da8cde39c61deef5a1b8efa31ed84cda7f5fe",
        "id": "3xnb7wcWMdl8",
        "trusted": true
      },
      "outputs": [
        {
          "data": {
            "text/plain": [
              "(20000, 68745)"
            ]
          },
          "execution_count": 22,
          "metadata": {},
          "output_type": "execute_result"
        }
      ],
      "source": [
        "#Define a TF-IDF Vectorizer Object. Remove all english stop words such as 'the', 'a'\n",
        "tfidf = TfidfVectorizer(stop_words='english')\n",
        "\n",
        "#Replace NaN with an empty string\n",
        "bookinfo_slice['description'] = bookinfo_slice['description'].fillna('')\n",
        "\n",
        "tfidf_matrix = tfidf.fit_transform(bookinfo_slice['description'])\n",
        "\n",
        "tfidf_matrix.shape"
      ]
    },
    {
      "cell_type": "markdown",
      "metadata": {
        "_uuid": "6bde57434bf9a0e8f8b229d36901d75b77ff962f",
        "id": "KpXeAKhpMdl8"
      },
      "source": [
        "We see that over 68000 different words were used to describe the more than 20000 selected books in our dataset.\n",
        "\n",
        "With this matrix in hand, we can now compute a similarity score. There are several candidates for this; such as the euclidean, the Pearson and the [cosine similarity scores](https://en.wikipedia.org/wiki/Cosine_similarity). There is no right answer to which score is the best. Different scores work well in different scenarios and it is often a good idea to experiment with different metrics.\n",
        "\n",
        "We will be using the cosine similarity to calculate a numeric quantity that denotes the similarity between two books. We use the cosine similarity score since it is independent of magnitude and is relatively easy and fast to calculate. Mathematically, it is defined as follows:\n",
        "![](data:image/png;base64,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)"
      ]
    },
    {
      "cell_type": "markdown",
      "metadata": {
        "_uuid": "c1c138ae64648cb5a94127a06441d88dddc2bd9a",
        "id": "Fag4vCc4Mdl8"
      },
      "source": [
        "Since we have used the TF-IDF vectorizer, calculating the dot product will directly give us the cosine similarity score. Therefore, we will use sklearn's **linear_kernel()** instead of cosine_similarities() since it is faster."
      ]
    },
    {
      "cell_type": "code",
      "execution_count": 23,
      "metadata": {
        "_uuid": "5eb17d12220eecab4faf01bbfd13e79d8e446537",
        "id": "ZUMBnhPNMdl8",
        "trusted": true
      },
      "outputs": [],
      "source": [
        "# Compute the cosine similarity matrix\n",
        "from sklearn.metrics.pairwise import linear_kernel\n",
        "\n",
        "cosine_sim = linear_kernel(tfidf_matrix, tfidf_matrix)"
      ]
    },
    {
      "cell_type": "markdown",
      "metadata": {
        "_uuid": "f5ca112fbbe25b11f0f3356a31d1604727242700",
        "id": "sOk9ZUsXMdl8"
      },
      "source": [
        "We are going to define a function that takes in a book title as an input and outputs a list of the 10 most similar books. Firstly, for this, we need a reverse mapping of book titles and DataFrame indices. In other words, we need a mechanism to identify the index of a book in our metadata DataFrame, given its title."
      ]
    },
    {
      "cell_type": "code",
      "execution_count": 24,
      "metadata": {
        "_uuid": "55df2df36be98e6dec5f617a5aa51b77c500faa4",
        "id": "e0HXmypWMdl9",
        "trusted": true
      },
      "outputs": [],
      "source": [
        "#Construct a reverse map of indices and book titles\n",
        "indices = pd.Series(bookinfo_slice.index, index=bookinfo_slice['Title']).drop_duplicates()"
      ]
    },
    {
      "cell_type": "markdown",
      "metadata": {
        "_uuid": "da5896c6ccfd44c3347af3097275d0aa707c1001",
        "id": "o8RKox_5Mdl9"
      },
      "source": [
        "We are now in a good position to define our recommendation function. These are the following steps we'll follow :-\n",
        "* Get the index of the book given its title.\n",
        "* Get the list of cosine similarity scores for that particular book with all books. Convert it into a list of tuples where the first element is its position and the second is the similarity score.\n",
        "* Sort the aforementioned list of tuples based on the similarity scores; that is, the second element.\n",
        "* Get the top 10 elements of this list. Ignore the first element as it refers to self (the book most similar to a particular book is the book itself).\n",
        "* Return the titles corresponding to the indices of the top elements."
      ]
    },
    {
      "cell_type": "code",
      "execution_count": 25,
      "metadata": {
        "_uuid": "9c383fcbb916dce464b01adf980d26ad96aebe0e",
        "id": "_2jaOQi-Mdl9",
        "trusted": true
      },
      "outputs": [],
      "source": [
        "# Function that takes in book title as input and outputs most similar books\n",
        "def get_recommendations(title, cosine_sim=cosine_sim):\n",
        "    # Get the index of the movie that matches the title\n",
        "    idx = indices[title]\n",
        "\n",
        "    # Get the pairwsie similarity scores of all movies with that movie\n",
        "    sim_scores = list(enumerate(cosine_sim[idx]))\n",
        "\n",
        "    # Sort the movies based on the similarity scores\n",
        "    sim_scores = sorted(sim_scores, key=lambda x: x[1], reverse=True)\n",
        "\n",
        "    # Get the scores of the 10 most similar movies\n",
        "    sim_scores = sim_scores[1:11]\n",
        "\n",
        "    # Get the movie indices\n",
        "    movie_indices = [i[0] for i in sim_scores]\n",
        "\n",
        "    # Return the top 10 most similar movies\n",
        "    return bookinfo_slice['Title'].iloc[movie_indices]"
      ]
    },
    {
      "cell_type": "code",
      "execution_count": 26,
      "metadata": {
        "_uuid": "14d722124f82e69cb444adcc589e396c75cbb4ff",
        "colab": {
          "base_uri": "https://localhost:8080/",
          "height": 418
        },
        "id": "6iGY-SsKMdl9",
        "outputId": "4ed6e4dc-831c-4bf8-8830-4b6aa52c0198",
        "trusted": true
      },
      "outputs": [
        {
          "data": {
            "text/plain": [
              "18403                   The last nine days of the Bismarck\n",
              "6850                                 Admirals in Collision\n",
              "17239    Band of Brothers: Boy Seamen in the Royal Navy...\n",
              "6134     Sharpe's Trafalgar (Richard Sharpe's Adventure...\n",
              "9558                            Cunard: 150 Glorious Years\n",
              "8111                 The Letter of Marque (Aubrey-Maturin)\n",
              "14326                                      Distant Gunfire\n",
              "476                 United States Navy Aircraft Since 1911\n",
              "10194           Germany's high sea fleet in the world war,\n",
              "14765                                    Captain Kilburnie\n",
              "Name: Title, dtype: object"
            ]
          },
          "execution_count": 26,
          "metadata": {},
          "output_type": "execute_result"
        }
      ],
      "source": [
        "get_recommendations('The Battleship Bismarck', cosine_sim)"
      ]
    },
    {
      "cell_type": "code",
      "execution_count": 27,
      "metadata": {
        "_uuid": "902b9f1ab91921889c85e9008818dcc0b4710ccd",
        "colab": {
          "base_uri": "https://localhost:8080/",
          "height": 418
        },
        "id": "c0R0kVTHMdl9",
        "outputId": "faf34a22-91f3-418c-c827-12e650816692",
        "trusted": true
      },
      "outputs": [
        {
          "data": {
            "text/plain": [
              "17661    Classic Children's Prayers (Little Prayer Series)\n",
              "3919     The Ultimate Priority: John Macarthur, Jr. on ...\n",
              "13468    For the Audience of One: Worshiping the One an...\n",
              "13873              Psalms In Worship, The (Lillenas Drama)\n",
              "3231     The Worship Leader's Handbook: Practical Answe...\n",
              "7927     When We Gather, Revised Edition: A Book of Pra...\n",
              "10187                         The Cokesbury Worship Hymnal\n",
              "9911     Whatever Happened to Worship: A Call To True W...\n",
              "16143                                            Catholics\n",
              "14378                                   As It Is in Heaven\n",
              "Name: Title, dtype: object"
            ]
          },
          "execution_count": 27,
          "metadata": {},
          "output_type": "execute_result"
        }
      ],
      "source": [
        "get_recommendations('Wonderful Worship in Smaller Churches', cosine_sim)"
      ]
    },
    {
      "cell_type": "markdown",
      "metadata": {
        "_uuid": "fcfe9db9c2fdd9334538256d233c6acf33c1c049",
        "id": "eWfECGypMdl-"
      },
      "source": [
        "## **Authors, publisher, published date and Genres Based Recommender**\n",
        "It goes without saying that the quality of our recommender would be increased with the usage of better metadata. That is exactly what we are going to do in this section. We are going to build a recommender based on the following metadata: the authors, the publisher, the published date and related genres.\n",
        "\n",
        "We need to convert the data into safe and useable features first.\n",
        "* Authors and categories are a list of strings -> convert stringified list to a list\n",
        "* Publisher is a string -> ok\n",
        "* published date is a date -> this has to be converted to a float and normalised"
      ]
    },
    {
      "cell_type": "code",
      "execution_count": 28,
      "metadata": {
        "id": "ky-lpidAjIG2"
      },
      "outputs": [],
      "source": [
        "# Convert stringified list to a list\n",
        "\n",
        "# Library needed to convert stringified list to a list\n",
        "from ast import literal_eval"
      ]
    },
    {
      "cell_type": "code",
      "execution_count": 29,
      "metadata": {},
      "outputs": [
        {
          "name": "stdout",
          "output_type": "stream",
          "text": [
            "<class 'list'>\n"
          ]
        }
      ],
      "source": [
        "# First, fill the NaN values with an empty string\n",
        "bookinfo_slice['authors'] = bookinfo_slice['authors'].fillna('[]')\n",
        "# Now, convert the stringified list to a list\n",
        "bookinfo_slice['authors'] = bookinfo_slice['authors'].apply(literal_eval)\n",
        "# Check whether the conversion was successful\n",
        "print(type(bookinfo_slice['authors'][0]))"
      ]
    },
    {
      "cell_type": "code",
      "execution_count": 30,
      "metadata": {},
      "outputs": [
        {
          "name": "stdout",
          "output_type": "stream",
          "text": [
            "<class 'list'>\n"
          ]
        }
      ],
      "source": [
        "# Same but for the 'categories' column\n",
        "bookinfo_slice['categories'] = bookinfo_slice['categories'].fillna('[]')\n",
        "bookinfo_slice['categories'] = bookinfo_slice['categories'].apply(literal_eval)\n",
        "print(type(bookinfo_slice['categories'][0]))"
      ]
    },
    {
      "cell_type": "code",
      "execution_count": 31,
      "metadata": {
        "id": "IPvxdxCfuL7P"
      },
      "outputs": [],
      "source": [
        "# Convert all values in publishedDate to a string of the year. Some entries are in 'year' format, some in 'year-month-day' format\n",
        "# If values are Nan, return Nan\n",
        "bookinfo_slice['publishedDate'] = bookinfo_slice['publishedDate'].apply(lambda x: str(x).split('-')[0] if pd.notnull(x) else x)"
      ]
    },
    {
      "cell_type": "code",
      "execution_count": 32,
      "metadata": {
        "_uuid": "87a96f835470aa3df590b74322c2717ff529d6ae",
        "id": "HA8fNWdTMdl_",
        "trusted": true
      },
      "outputs": [
        {
          "data": {
            "text/html": [
              "<div>\n",
              "<style scoped>\n",
              "    .dataframe tbody tr th:only-of-type {\n",
              "        vertical-align: middle;\n",
              "    }\n",
              "\n",
              "    .dataframe tbody tr th {\n",
              "        vertical-align: top;\n",
              "    }\n",
              "\n",
              "    .dataframe thead th {\n",
              "        text-align: right;\n",
              "    }\n",
              "</style>\n",
              "<table border=\"1\" class=\"dataframe\">\n",
              "  <thead>\n",
              "    <tr style=\"text-align: right;\">\n",
              "      <th></th>\n",
              "      <th>Title</th>\n",
              "      <th>authors</th>\n",
              "      <th>categories</th>\n",
              "      <th>publishedDate</th>\n",
              "    </tr>\n",
              "  </thead>\n",
              "  <tbody>\n",
              "    <tr>\n",
              "      <th>0</th>\n",
              "      <td>Its Only Art If Its Well Hung!</td>\n",
              "      <td>[Julie Strain]</td>\n",
              "      <td>[Comics &amp; Graphic Novels]</td>\n",
              "      <td>1996</td>\n",
              "    </tr>\n",
              "    <tr>\n",
              "      <th>1</th>\n",
              "      <td>Dr. Seuss: American Icon</td>\n",
              "      <td>[Philip Nel]</td>\n",
              "      <td>[Biography &amp; Autobiography]</td>\n",
              "      <td>2005</td>\n",
              "    </tr>\n",
              "    <tr>\n",
              "      <th>2</th>\n",
              "      <td>Wonderful Worship in Smaller Churches</td>\n",
              "      <td>[David R. Ray]</td>\n",
              "      <td>[Religion]</td>\n",
              "      <td>2000</td>\n",
              "    </tr>\n",
              "    <tr>\n",
              "      <th>3</th>\n",
              "      <td>Whispers of the Wicked Saints</td>\n",
              "      <td>[Veronica Haddon]</td>\n",
              "      <td>[Fiction]</td>\n",
              "      <td>2005</td>\n",
              "    </tr>\n",
              "    <tr>\n",
              "      <th>4</th>\n",
              "      <td>Nation Dance: Religion, Identity and Cultural ...</td>\n",
              "      <td>[Edward Long]</td>\n",
              "      <td>[]</td>\n",
              "      <td>2003</td>\n",
              "    </tr>\n",
              "  </tbody>\n",
              "</table>\n",
              "</div>"
            ],
            "text/plain": [
              "                                               Title            authors  \\\n",
              "0                     Its Only Art If Its Well Hung!     [Julie Strain]   \n",
              "1                           Dr. Seuss: American Icon       [Philip Nel]   \n",
              "2              Wonderful Worship in Smaller Churches     [David R. Ray]   \n",
              "3                      Whispers of the Wicked Saints  [Veronica Haddon]   \n",
              "4  Nation Dance: Religion, Identity and Cultural ...      [Edward Long]   \n",
              "\n",
              "                    categories publishedDate  \n",
              "0    [Comics & Graphic Novels]          1996  \n",
              "1  [Biography & Autobiography]          2005  \n",
              "2                   [Religion]          2000  \n",
              "3                    [Fiction]          2005  \n",
              "4                           []          2003  "
            ]
          },
          "execution_count": 32,
          "metadata": {},
          "output_type": "execute_result"
        }
      ],
      "source": [
        "# Print the new features of the first 5 books\n",
        "bookinfo_slice[['Title', 'authors', 'categories', 'publishedDate']].head(5)"
      ]
    },
    {
      "cell_type": "markdown",
      "metadata": {
        "_uuid": "0bcb2c2e99ffd9ce73205c9c6ef6687d16caa31f",
        "id": "iBG_dsimMdl_"
      },
      "source": [
        "The next step would be to convert the names and keyword instances into lowercase and strip all the spaces between them. This is done so that our vectorizer doesn't count the Johnny of \"Johnny Depp\" and \"Johnny Galecki\" as the same."
      ]
    },
    {
      "cell_type": "code",
      "execution_count": 33,
      "metadata": {
        "_uuid": "86af764c406a8b6184b37b57cfe499d20ce45f9c",
        "id": "76B9MA86Mdl_",
        "trusted": true
      },
      "outputs": [],
      "source": [
        "# Function to convert all strings to lower case and strip names of spaces\n",
        "def clean_data(x):\n",
        "    if isinstance(x, list):\n",
        "        return [str.lower(i.replace(\" \", \"\")) for i in x]\n",
        "    else:\n",
        "        #Check if director exists. If not, return empty string\n",
        "        if isinstance(x, str):\n",
        "            return str.lower(x.replace(\" \", \"\"))\n",
        "        else:\n",
        "            return ''"
      ]
    },
    {
      "cell_type": "code",
      "execution_count": 34,
      "metadata": {
        "_uuid": "5728cc017ff6ed1dcd79da05b1dd57a60557e853",
        "id": "3gUGaxO5Mdl_",
        "trusted": true
      },
      "outputs": [],
      "source": [
        "# Apply clean_data function to your features.\n",
        "features = ['authors', 'categories', 'publishedDate', 'publisher']\n",
        "\n",
        "for feature in features:\n",
        "    bookinfo_slice[feature] = bookinfo_slice[feature].apply(clean_data)"
      ]
    },
    {
      "cell_type": "markdown",
      "metadata": {
        "_uuid": "b6b3e1c480a7c280fbe81e63c5c4cf3ce308dc28",
        "id": "nNogcaS0Mdl_"
      },
      "source": [
        "We are now in a position to create our \"metadata soup\", which is a string that contains all the metadata that we want to feed to our vectorizer."
      ]
    },
    {
      "cell_type": "code",
      "execution_count": 35,
      "metadata": {
        "_uuid": "20aef87703c408926f7617573ed043605207767f",
        "id": "V9bPVhykMdl_",
        "trusted": true
      },
      "outputs": [],
      "source": [
        "# Create a metadata soup using the function seen in the demo\n",
        "def create_soup(x):\n",
        "    return ' '.join(x['authors']) + ' ' + ' '.join(x['categories']) + ' ' + x['publishedDate'] + ' ' + ' '.join(x['publisher'])\n",
        "\n",
        "bookinfo_slice['soup'] = bookinfo_slice.apply(create_soup, axis=1)"
      ]
    },
    {
      "cell_type": "markdown",
      "metadata": {
        "_uuid": "7b79886883806b8fb58098f9f803dabeaa0cadf6",
        "id": "bNjLrAe7Mdl_"
      },
      "source": [
        "The next steps are the same as what we did with our plot description based recommender. One important difference is that we use the **CountVectorizer()** instead of TF-IDF. This is because we do not want to down-weight the presence of for example an author if he or she has written more books. It doesn't make much intuitive sense."
      ]
    },
    {
      "cell_type": "code",
      "execution_count": 36,
      "metadata": {
        "_uuid": "b66a1afc1083917d5ef136ccdcd9b50cca087e2b",
        "id": "5sW9Vu7qMdl_",
        "trusted": true
      },
      "outputs": [],
      "source": [
        "# Create the count matrix\n",
        "count = CountVectorizer(stop_words='english')\n",
        "count_matrix = count.fit_transform(bookinfo_slice['soup'])"
      ]
    },
    {
      "cell_type": "markdown",
      "metadata": {},
      "source": [
        "<div style=\"border: 2px solid red; padding: 10px; background-color:rgb(216, 233, 142); color: red; font-weight: bold; font-size: 16px;\">\n",
        "⚠️ **WARNING:** When I fitted the Count Vectorizer to my *whole* dataset, my computer ran out of RAM, so I had to fit it to the slice of the book info dataset that I created earlier.\n",
        "</div>"
      ]
    },
    {
      "cell_type": "code",
      "execution_count": 37,
      "metadata": {
        "_uuid": "3fa5539ed1680ed5323f8351ac7e4840f629e958",
        "id": "OELH5qEHMdmA",
        "trusted": true
      },
      "outputs": [],
      "source": [
        "# Compute the Cosine Similarity matrix based on the count_matrix\n",
        "cosine_sim_bookinfo_description = cosine_similarity(count_matrix, count_matrix)"
      ]
    },
    {
      "cell_type": "code",
      "execution_count": 38,
      "metadata": {
        "_uuid": "b2b8565a04f4bda92d3ba9d15c348af1cd8f8b4d",
        "id": "qcgTVq6pMdmA",
        "trusted": true
      },
      "outputs": [],
      "source": [
        "# Reset index of our main DataFrame and construct reverse mapping as before\n",
        "bookinfo_slice = bookinfo_slice.reset_index()\n",
        "indices = pd.Series(bookinfo_slice.index, index=bookinfo_slice['Title'])"
      ]
    },
    {
      "cell_type": "markdown",
      "metadata": {
        "_uuid": "3c5a3a44893f63aa558030d03e228a365d10d91f",
        "id": "KDTa4y_zMdmA"
      },
      "source": [
        "We can now reuse our **get_recommendations()** function by passing in the new **cosine_sim2** matrix as your second argument."
      ]
    },
    {
      "cell_type": "code",
      "execution_count": 39,
      "metadata": {
        "_uuid": "d1e0e02be7a9e71422d3a492834cb4f8434d1464",
        "colab": {
          "base_uri": "https://localhost:8080/",
          "height": 418
        },
        "id": "PMtRDs8yMdmA",
        "outputId": "db8d5cd5-13ef-4a5f-c802-8a3f5f90f69f",
        "trusted": true
      },
      "outputs": [
        {
          "data": {
            "text/plain": [
              "14                                    A husband for Kutani\n",
              "656      Crusade of the Left: The Lincoln battalion in ...\n",
              "2076     Snorri Sturluson: Ein biografi (Norwegian Edit...\n",
              "3732              Spirit Song: The Introduction of No-Eyes\n",
              "4218     Queen of France;: A biography of Marie Antoinette\n",
              "5936     Growth in holiness; or, The progress of the sp...\n",
              "7751              The complete memoirs of George Sherston,\n",
              "9063                              England Under The Tudors\n",
              "12110    A German Ace Tells Why: From Kaiserdom to Hitl...\n",
              "12166    A History of Russia, Central Asia and Mongolia...\n",
              "Name: Title, dtype: object"
            ]
          },
          "execution_count": 39,
          "metadata": {},
          "output_type": "execute_result"
        }
      ],
      "source": [
        "get_recommendations('The Battleship Bismarck', cosine_sim_bookinfo_description)"
      ]
    },
    {
      "cell_type": "code",
      "execution_count": 40,
      "metadata": {
        "_uuid": "d6c4df85a80d830b2905f69e0e59ebb3461db3b7",
        "colab": {
          "base_uri": "https://localhost:8080/",
          "height": 418
        },
        "id": "5a_THPaYMdmA",
        "outputId": "a5047421-58e1-4ec2-a1d1-c7ff8fc9fc59",
        "trusted": true
      },
      "outputs": [
        {
          "data": {
            "text/plain": [
              "1547     A Philadelphia Catholic to King James's Court:...\n",
              "1731     Searching for an Adequate God: A Dialogue betw...\n",
              "2396     My Soul Thirsts: An Invitation to Intimacy Wit...\n",
              "5001                    Word pictures in the New Testament\n",
              "6500     And I Will Dwell in Their Midst: Orthodox Jews...\n",
              "7060        Raw Faith: Nurturing the Believer in All of Us\n",
              "9707     Journey to Self-Realization - Collected Talks ...\n",
              "10545                           Reconstructing Catholicism\n",
              "13182                                            The Koran\n",
              "13274    Directions for Communication Discoveries with ...\n",
              "Name: Title, dtype: object"
            ]
          },
          "execution_count": 40,
          "metadata": {},
          "output_type": "execute_result"
        }
      ],
      "source": [
        "get_recommendations('Wonderful Worship in Smaller Churches', cosine_sim_bookinfo_description)"
      ]
    },
    {
      "cell_type": "markdown",
      "metadata": {
        "id": "1R9WZSKY9c36"
      },
      "source": [
        "On first glance, the recommendations look trustworthy. But it is difficult to see whether these recommendations are better than the ones with the first cosine_sim. We need the test methods described in the theory to check this."
      ]
    },
    {
      "cell_type": "markdown",
      "metadata": {
        "_uuid": "71b15b5c090694303fa5e8d67b8bf394e07f45d6",
        "id": "drTGN-ahMdmB"
      },
      "source": [
        "# **Collaborative Filtering**\n",
        "\n",
        "Our content based engine suffers from some severe limitations. It is only capable of suggesting books which are close to a certain book. That is, it is not capable of capturing tastes and providing recommendations across genres.\n",
        "\n",
        "Also, the engine that we built is not really personal in that it doesn't capture the personal tastes and biases of a user. Anyone querying our engine for recommendations based on a book will receive the same recommendations for that book, regardless of who she/he is.\n",
        "\n",
        "Therefore, in this section, we will use a technique called Collaborative Filtering to make recommendations to book Watchers.\n",
        "It is basically of two types:-\n",
        "\n",
        "*  **User based filtering**-  These systems recommend products to a user that similar users have liked. For measuring the similarity between two users we can either use pearson correlation or cosine similarity.\n",
        "This filtering technique can be illustrated with an example. In the following matrixes, each row represents a user, while the columns correspond to different books except the last one which records the similarity between that user and the target user. Each cell represents the rating that the user gives to that book. Assume user E is the target.\n",
        "![](https://cdn-images-1.medium.com/max/1000/1*9NBFo4AUQABKfoUOpE3F8Q.png)\n",
        "\n",
        "Since user A and F do not share any book ratings in common with user E, their similarities with user E are not defined in Pearson Correlation. Therefore, we only need to consider user B, C, and D. Based on Pearson Correlation, we can compute the following similarity.\n",
        "![](https://cdn-images-1.medium.com/max/1000/1*jZIMJzKM1hKTFftHfcSxRw.png)\n",
        "\n",
        "From the above table we can see that user D is very different from user E as the Pearson Correlation between them is negative. He rated Me Before You higher than his rating average, while user E did the opposite. Now, we can start to fill in the blank for the books that user E has not rated based on other users.\n",
        "![](https://cdn-images-1.medium.com/max/1000/1*9TC6BrfxYttJwiATFAIFBg.png)\n",
        "\n",
        "Although computing user-based CF is very simple, it suffers from several problems. One main issue is that users’ preference can change over time. It indicates that precomputing the matrix based on their neighboring users may lead to bad performance. To tackle this problem, we can apply item-based CF.\n",
        "\n",
        "* **Item Based Collaborative Filtering** - Instead of measuring the similarity between users, the item-based CF recommends items based on their similarity with the items that the target user rated. Likewise, the similarity can be computed with Pearson Correlation or Cosine Similarity. The major difference is that, with item-based collaborative filtering, we fill in the blank vertically, as oppose to the horizontal manner that user-based CF does. The following table shows how to do so for the book Me Before You.\n",
        "![](https://cdn-images-1.medium.com/max/1000/1*LqFnWb-cm92HoMYBL840Ew.png)\n",
        "\n",
        "It successfully avoids the problem posed by dynamic user preference as item-based CF is more static. However, several problems remain for this method. First, the main issue is ***scalability***. The computation grows with both the customer and the product. The worst case complexity is O(mn) with m users and n items. In addition, ***sparsity*** is another concern. Take a look at the above table again. Although there is only one user that rated both Matrix and Titanic rated, the similarity between them is 1. In extreme cases, we can have millions of users and the similarity between two fairly different books could be very high simply because they have similar rank for the only user who ranked them both.\n",
        "\n"
      ]
    },
    {
      "cell_type": "markdown",
      "metadata": {
        "_uuid": "4307f75107f9c5e5f911d52a6f1dc5530990c75e",
        "id": "Um49EqAhMdmB"
      },
      "source": [
        "### **Single Value Decomposition**\n",
        "One way to handle the scalability and sparsity issue created by CF is to leverage a **latent factor model** to capture the similarity between users and items. Essentially, we want to turn the recommendation problem into an optimization problem. We can view it as how good we are in predicting the rating for items given a user. One common metric is Root Mean Square Error (RMSE). **The lower the RMSE, the better the performance**.\n",
        "\n",
        "Now talking about latent factor you might be wondering what is it ?It is a broad idea which describes a property or concept that a user or an item have. For instance, for music, latent factor can refer to the genre that the music belongs to. SVD decreases the dimension of the utility matrix by extracting its latent factors. Essentially, we map each user and each item into a latent space with dimension r. Therefore, it helps us better understand the relationship between users and items as they become directly comparable. The below figure illustrates this idea.\n",
        "\n",
        "![](https://cdn-images-1.medium.com/max/800/1*GUw90kG2ltTd2k_iv3Vo0Q.png)"
      ]
    },
    {
      "cell_type": "markdown",
      "metadata": {
        "_uuid": "defca8163cfc24a97bee620d6a3d501aa2ec95ae",
        "id": "XO8SO2oMMdmB"
      },
      "source": [
        "Now enough said , let's see how to implement this.\n",
        "Since the dataset we used before did not have userId(which is necessary for collaborative filtering) let's load another dataset. We'll be using the [**Surprise** ](https://surprise.readthedocs.io/en/stable/index.html) library to implement SVD."
      ]
    },
    {
      "cell_type": "code",
      "execution_count": 42,
      "metadata": {
        "_uuid": "9a7faf48bf42293d18b29efac95e15010f6c900e",
        "colab": {
          "base_uri": "https://localhost:8080/",
          "height": 348
        },
        "id": "ZEzwFkvjMdmB",
        "outputId": "bf7eaf41-67d5-44b0-9306-317ae93adc50",
        "trusted": true
      },
      "outputs": [
        {
          "data": {
            "text/html": [
              "<div>\n",
              "<style scoped>\n",
              "    .dataframe tbody tr th:only-of-type {\n",
              "        vertical-align: middle;\n",
              "    }\n",
              "\n",
              "    .dataframe tbody tr th {\n",
              "        vertical-align: top;\n",
              "    }\n",
              "\n",
              "    .dataframe thead th {\n",
              "        text-align: right;\n",
              "    }\n",
              "</style>\n",
              "<table border=\"1\" class=\"dataframe\">\n",
              "  <thead>\n",
              "    <tr style=\"text-align: right;\">\n",
              "      <th></th>\n",
              "      <th>Id</th>\n",
              "      <th>Title</th>\n",
              "      <th>Price</th>\n",
              "      <th>User_id</th>\n",
              "      <th>profileName</th>\n",
              "      <th>review/helpfulness</th>\n",
              "      <th>review/score</th>\n",
              "      <th>review/time</th>\n",
              "      <th>review/summary</th>\n",
              "      <th>review/text</th>\n",
              "    </tr>\n",
              "  </thead>\n",
              "  <tbody>\n",
              "    <tr>\n",
              "      <th>0</th>\n",
              "      <td>1882931173</td>\n",
              "      <td>Its Only Art If Its Well Hung!</td>\n",
              "      <td>NaN</td>\n",
              "      <td>AVCGYZL8FQQTD</td>\n",
              "      <td>Jim of Oz \"jim-of-oz\"</td>\n",
              "      <td>7/7</td>\n",
              "      <td>4.0</td>\n",
              "      <td>940636800</td>\n",
              "      <td>Nice collection of Julie Strain images</td>\n",
              "      <td>This is only for Julie Strain fans. It's a col...</td>\n",
              "    </tr>\n",
              "    <tr>\n",
              "      <th>1</th>\n",
              "      <td>0826414346</td>\n",
              "      <td>Dr. Seuss: American Icon</td>\n",
              "      <td>NaN</td>\n",
              "      <td>A30TK6U7DNS82R</td>\n",
              "      <td>Kevin Killian</td>\n",
              "      <td>10/10</td>\n",
              "      <td>5.0</td>\n",
              "      <td>1095724800</td>\n",
              "      <td>Really Enjoyed It</td>\n",
              "      <td>I don't care much for Dr. Seuss but after read...</td>\n",
              "    </tr>\n",
              "    <tr>\n",
              "      <th>2</th>\n",
              "      <td>0826414346</td>\n",
              "      <td>Dr. Seuss: American Icon</td>\n",
              "      <td>NaN</td>\n",
              "      <td>A3UH4UZ4RSVO82</td>\n",
              "      <td>John Granger</td>\n",
              "      <td>10/11</td>\n",
              "      <td>5.0</td>\n",
              "      <td>1078790400</td>\n",
              "      <td>Essential for every personal and Public Library</td>\n",
              "      <td>If people become the books they read and if \"t...</td>\n",
              "    </tr>\n",
              "    <tr>\n",
              "      <th>3</th>\n",
              "      <td>0826414346</td>\n",
              "      <td>Dr. Seuss: American Icon</td>\n",
              "      <td>NaN</td>\n",
              "      <td>A2MVUWT453QH61</td>\n",
              "      <td>Roy E. Perry \"amateur philosopher\"</td>\n",
              "      <td>7/7</td>\n",
              "      <td>4.0</td>\n",
              "      <td>1090713600</td>\n",
              "      <td>Phlip Nel gives silly Seuss a serious treatment</td>\n",
              "      <td>Theodore Seuss Geisel (1904-1991), aka &amp;quot;D...</td>\n",
              "    </tr>\n",
              "    <tr>\n",
              "      <th>4</th>\n",
              "      <td>0826414346</td>\n",
              "      <td>Dr. Seuss: American Icon</td>\n",
              "      <td>NaN</td>\n",
              "      <td>A22X4XUPKF66MR</td>\n",
              "      <td>D. H. Richards \"ninthwavestore\"</td>\n",
              "      <td>3/3</td>\n",
              "      <td>4.0</td>\n",
              "      <td>1107993600</td>\n",
              "      <td>Good academic overview</td>\n",
              "      <td>Philip Nel - Dr. Seuss: American IconThis is b...</td>\n",
              "    </tr>\n",
              "  </tbody>\n",
              "</table>\n",
              "</div>"
            ],
            "text/plain": [
              "           Id                           Title  Price         User_id  \\\n",
              "0  1882931173  Its Only Art If Its Well Hung!    NaN   AVCGYZL8FQQTD   \n",
              "1  0826414346        Dr. Seuss: American Icon    NaN  A30TK6U7DNS82R   \n",
              "2  0826414346        Dr. Seuss: American Icon    NaN  A3UH4UZ4RSVO82   \n",
              "3  0826414346        Dr. Seuss: American Icon    NaN  A2MVUWT453QH61   \n",
              "4  0826414346        Dr. Seuss: American Icon    NaN  A22X4XUPKF66MR   \n",
              "\n",
              "                          profileName review/helpfulness  review/score  \\\n",
              "0               Jim of Oz \"jim-of-oz\"                7/7           4.0   \n",
              "1                       Kevin Killian              10/10           5.0   \n",
              "2                        John Granger              10/11           5.0   \n",
              "3  Roy E. Perry \"amateur philosopher\"                7/7           4.0   \n",
              "4     D. H. Richards \"ninthwavestore\"                3/3           4.0   \n",
              "\n",
              "   review/time                                   review/summary  \\\n",
              "0    940636800           Nice collection of Julie Strain images   \n",
              "1   1095724800                                Really Enjoyed It   \n",
              "2   1078790400  Essential for every personal and Public Library   \n",
              "3   1090713600  Phlip Nel gives silly Seuss a serious treatment   \n",
              "4   1107993600                           Good academic overview   \n",
              "\n",
              "                                         review/text  \n",
              "0  This is only for Julie Strain fans. It's a col...  \n",
              "1  I don't care much for Dr. Seuss but after read...  \n",
              "2  If people become the books they read and if \"t...  \n",
              "3  Theodore Seuss Geisel (1904-1991), aka &quot;D...  \n",
              "4  Philip Nel - Dr. Seuss: American IconThis is b...  "
            ]
          },
          "execution_count": 42,
          "metadata": {},
          "output_type": "execute_result"
        }
      ],
      "source": [
        "from surprise import Reader, Dataset, SVD, accuracy\n",
        "from surprise.model_selection import cross_validate # Import the cross_validate function\n",
        "\n",
        "reader = Reader()\n",
        "df_ratings.head()"
      ]
    },
    {
      "cell_type": "code",
      "execution_count": 47,
      "metadata": {},
      "outputs": [
        {
          "data": {
            "text/html": [
              "<div>\n",
              "<style scoped>\n",
              "    .dataframe tbody tr th:only-of-type {\n",
              "        vertical-align: middle;\n",
              "    }\n",
              "\n",
              "    .dataframe tbody tr th {\n",
              "        vertical-align: top;\n",
              "    }\n",
              "\n",
              "    .dataframe thead th {\n",
              "        text-align: right;\n",
              "    }\n",
              "</style>\n",
              "<table border=\"1\" class=\"dataframe\">\n",
              "  <thead>\n",
              "    <tr style=\"text-align: right;\">\n",
              "      <th></th>\n",
              "      <th>Title</th>\n",
              "      <th>description</th>\n",
              "      <th>authors</th>\n",
              "      <th>image</th>\n",
              "      <th>previewLink</th>\n",
              "      <th>publisher</th>\n",
              "      <th>publishedDate</th>\n",
              "      <th>infoLink</th>\n",
              "      <th>categories</th>\n",
              "      <th>ratingsCount</th>\n",
              "    </tr>\n",
              "  </thead>\n",
              "  <tbody>\n",
              "    <tr>\n",
              "      <th>0</th>\n",
              "      <td>Its Only Art If Its Well Hung!</td>\n",
              "      <td>NaN</td>\n",
              "      <td>['Julie Strain']</td>\n",
              "      <td>http://books.google.com/books/content?id=DykPA...</td>\n",
              "      <td>http://books.google.nl/books?id=DykPAAAACAAJ&amp;d...</td>\n",
              "      <td>NaN</td>\n",
              "      <td>1996</td>\n",
              "      <td>http://books.google.nl/books?id=DykPAAAACAAJ&amp;d...</td>\n",
              "      <td>['Comics &amp; Graphic Novels']</td>\n",
              "      <td>NaN</td>\n",
              "    </tr>\n",
              "    <tr>\n",
              "      <th>1</th>\n",
              "      <td>Dr. Seuss: American Icon</td>\n",
              "      <td>Philip Nel takes a fascinating look into the k...</td>\n",
              "      <td>['Philip Nel']</td>\n",
              "      <td>http://books.google.com/books/content?id=IjvHQ...</td>\n",
              "      <td>http://books.google.nl/books?id=IjvHQsCn_pgC&amp;p...</td>\n",
              "      <td>A&amp;C Black</td>\n",
              "      <td>2005-01-01</td>\n",
              "      <td>http://books.google.nl/books?id=IjvHQsCn_pgC&amp;d...</td>\n",
              "      <td>['Biography &amp; Autobiography']</td>\n",
              "      <td>NaN</td>\n",
              "    </tr>\n",
              "    <tr>\n",
              "      <th>2</th>\n",
              "      <td>Wonderful Worship in Smaller Churches</td>\n",
              "      <td>This resource includes twelve principles in un...</td>\n",
              "      <td>['David R. Ray']</td>\n",
              "      <td>http://books.google.com/books/content?id=2tsDA...</td>\n",
              "      <td>http://books.google.nl/books?id=2tsDAAAACAAJ&amp;d...</td>\n",
              "      <td>NaN</td>\n",
              "      <td>2000</td>\n",
              "      <td>http://books.google.nl/books?id=2tsDAAAACAAJ&amp;d...</td>\n",
              "      <td>['Religion']</td>\n",
              "      <td>NaN</td>\n",
              "    </tr>\n",
              "    <tr>\n",
              "      <th>3</th>\n",
              "      <td>Whispers of the Wicked Saints</td>\n",
              "      <td>Julia Thomas finds her life spinning out of co...</td>\n",
              "      <td>['Veronica Haddon']</td>\n",
              "      <td>http://books.google.com/books/content?id=aRSIg...</td>\n",
              "      <td>http://books.google.nl/books?id=aRSIgJlq6JwC&amp;d...</td>\n",
              "      <td>iUniverse</td>\n",
              "      <td>2005-02</td>\n",
              "      <td>http://books.google.nl/books?id=aRSIgJlq6JwC&amp;d...</td>\n",
              "      <td>['Fiction']</td>\n",
              "      <td>NaN</td>\n",
              "    </tr>\n",
              "    <tr>\n",
              "      <th>4</th>\n",
              "      <td>Nation Dance: Religion, Identity and Cultural ...</td>\n",
              "      <td>NaN</td>\n",
              "      <td>['Edward Long']</td>\n",
              "      <td>NaN</td>\n",
              "      <td>http://books.google.nl/books?id=399SPgAACAAJ&amp;d...</td>\n",
              "      <td>NaN</td>\n",
              "      <td>2003-03-01</td>\n",
              "      <td>http://books.google.nl/books?id=399SPgAACAAJ&amp;d...</td>\n",
              "      <td>NaN</td>\n",
              "      <td>NaN</td>\n",
              "    </tr>\n",
              "  </tbody>\n",
              "</table>\n",
              "</div>"
            ],
            "text/plain": [
              "                                               Title  \\\n",
              "0                     Its Only Art If Its Well Hung!   \n",
              "1                           Dr. Seuss: American Icon   \n",
              "2              Wonderful Worship in Smaller Churches   \n",
              "3                      Whispers of the Wicked Saints   \n",
              "4  Nation Dance: Religion, Identity and Cultural ...   \n",
              "\n",
              "                                         description              authors  \\\n",
              "0                                                NaN     ['Julie Strain']   \n",
              "1  Philip Nel takes a fascinating look into the k...       ['Philip Nel']   \n",
              "2  This resource includes twelve principles in un...     ['David R. Ray']   \n",
              "3  Julia Thomas finds her life spinning out of co...  ['Veronica Haddon']   \n",
              "4                                                NaN      ['Edward Long']   \n",
              "\n",
              "                                               image  \\\n",
              "0  http://books.google.com/books/content?id=DykPA...   \n",
              "1  http://books.google.com/books/content?id=IjvHQ...   \n",
              "2  http://books.google.com/books/content?id=2tsDA...   \n",
              "3  http://books.google.com/books/content?id=aRSIg...   \n",
              "4                                                NaN   \n",
              "\n",
              "                                         previewLink  publisher publishedDate  \\\n",
              "0  http://books.google.nl/books?id=DykPAAAACAAJ&d...        NaN          1996   \n",
              "1  http://books.google.nl/books?id=IjvHQsCn_pgC&p...  A&C Black    2005-01-01   \n",
              "2  http://books.google.nl/books?id=2tsDAAAACAAJ&d...        NaN          2000   \n",
              "3  http://books.google.nl/books?id=aRSIgJlq6JwC&d...  iUniverse       2005-02   \n",
              "4  http://books.google.nl/books?id=399SPgAACAAJ&d...        NaN    2003-03-01   \n",
              "\n",
              "                                            infoLink  \\\n",
              "0  http://books.google.nl/books?id=DykPAAAACAAJ&d...   \n",
              "1  http://books.google.nl/books?id=IjvHQsCn_pgC&d...   \n",
              "2  http://books.google.nl/books?id=2tsDAAAACAAJ&d...   \n",
              "3  http://books.google.nl/books?id=aRSIgJlq6JwC&d...   \n",
              "4  http://books.google.nl/books?id=399SPgAACAAJ&d...   \n",
              "\n",
              "                      categories  ratingsCount  \n",
              "0    ['Comics & Graphic Novels']           NaN  \n",
              "1  ['Biography & Autobiography']           NaN  \n",
              "2                   ['Religion']           NaN  \n",
              "3                    ['Fiction']           NaN  \n",
              "4                            NaN           NaN  "
            ]
          },
          "execution_count": 47,
          "metadata": {},
          "output_type": "execute_result"
        }
      ],
      "source": [
        "df_bookinfo.head()"
      ]
    },
    {
      "cell_type": "code",
      "execution_count": null,
      "metadata": {
        "_uuid": "75166cecd9821bab4299605b66ea2a7787a4c3b7",
        "id": "UejCrEeTMdmB",
        "trusted": true
      },
      "outputs": [
        {
          "name": "stdout",
          "output_type": "stream",
          "text": [
            "Evaluating RMSE, MAE of algorithm SVD on 5 split(s).\n",
            "\n",
            "                  Fold 1  Fold 2  Fold 3  Fold 4  Fold 5  Mean    Std     \n",
            "RMSE (testset)    1.0301  1.0312  1.0267  1.0284  1.0283  1.0289  0.0016  \n",
            "MAE (testset)     0.7280  0.7296  0.7288  0.7277  0.7240  0.7276  0.0019  \n",
            "Fit time          32.75   33.01   30.28   30.30   30.46   31.36   1.25    \n",
            "Test time         3.59    3.60    2.76    2.79    1.99    2.95    0.60    \n",
            "{'test_rmse': array([1.03012485, 1.03119748, 1.02669195, 1.02840132, 1.02829955]), 'test_mae': array([0.7279615 , 0.72964782, 0.72881094, 0.72767889, 0.72401879]), 'fit_time': (32.74514722824097, 33.01002645492554, 30.276287078857422, 30.295981884002686, 30.46004605293274), 'test_time': (3.5949106216430664, 3.604128360748291, 2.7572274208068848, 2.7874834537506104, 1.9901158809661865)}\n"
          ]
        }
      ],
      "source": [
        "# Apply SVD as seen in the demo, explain the result\n",
        "# load relevant data\n",
        "data = Dataset.load_from_df(df_ratings[['Id', 'User_id', 'review/score']], reader)\n",
        "svd = SVD()\n",
        "results = cross_validate(svd, data, measures=['RMSE', 'MAE'], cv=5, verbose=True)\n",
        "# cv=5 specifies 5-fold cross-validation, verbose=True prints results\n",
        "print(results) # Print the results dictionary to see the evaluation metrics"
      ]
    },
    {
      "cell_type": "code",
      "execution_count": 45,
      "metadata": {},
      "outputs": [
        {
          "data": {
            "text/plain": [
              "<surprise.prediction_algorithms.matrix_factorization.SVD at 0x7cc8b37c9ba0>"
            ]
          },
          "execution_count": 45,
          "metadata": {},
          "output_type": "execute_result"
        }
      ],
      "source": [
        "# Fitting the model\n",
        "trainset = data.build_full_trainset()\n",
        "svd.fit(trainset)"
      ]
    },
    {
      "cell_type": "markdown",
      "metadata": {},
      "source": [
        "<font color='red'> Explain The Result </font>\n",
        "\n",
        "\n",
        "The `cv=5` argument means that we split the dataset in 5 parts, and for 5 times trained it on 4 of those parts, and validated on 1. The evaluation metrics are shown both for each individual part, and as a mean and standard distribution.\n",
        "\n",
        "\n",
        "- The `RMSE` or Root Mean Squared Error is usually higher than the `MAE` or Mean Absolute Error. \n",
        "- The Standard Deviation for both of these errors is relatively small, so the model fitted well on all the folds of the cross validation set.\n",
        "- The mean of ~1 for `RMSE` and ~0.7 for `MAE` means that the model can distinguish very well between whether a user will like or hate a book, but it might not be as good at making more detailed predictions (since it is usually off by close to 1 star)\n"
      ]
    },
    {
      "cell_type": "code",
      "execution_count": 58,
      "metadata": {
        "_uuid": "5a526fddacb2f7234e524e71224fdd1aecdd6ec0",
        "id": "cedQedfPMdmD",
        "trusted": true
      },
      "outputs": [
        {
          "data": {
            "text/html": [
              "<div>\n",
              "<style scoped>\n",
              "    .dataframe tbody tr th:only-of-type {\n",
              "        vertical-align: middle;\n",
              "    }\n",
              "\n",
              "    .dataframe tbody tr th {\n",
              "        vertical-align: top;\n",
              "    }\n",
              "\n",
              "    .dataframe thead th {\n",
              "        text-align: right;\n",
              "    }\n",
              "</style>\n",
              "<table border=\"1\" class=\"dataframe\">\n",
              "  <thead>\n",
              "    <tr style=\"text-align: right;\">\n",
              "      <th></th>\n",
              "      <th>Id</th>\n",
              "      <th>Title</th>\n",
              "      <th>Price</th>\n",
              "      <th>User_id</th>\n",
              "      <th>profileName</th>\n",
              "      <th>review/helpfulness</th>\n",
              "      <th>review/score</th>\n",
              "      <th>review/time</th>\n",
              "      <th>review/summary</th>\n",
              "      <th>review/text</th>\n",
              "    </tr>\n",
              "  </thead>\n",
              "  <tbody>\n",
              "    <tr>\n",
              "      <th>1</th>\n",
              "      <td>0826414346</td>\n",
              "      <td>Dr. Seuss: American Icon</td>\n",
              "      <td>NaN</td>\n",
              "      <td>A30TK6U7DNS82R</td>\n",
              "      <td>Kevin Killian</td>\n",
              "      <td>10/10</td>\n",
              "      <td>5.0</td>\n",
              "      <td>1095724800</td>\n",
              "      <td>Really Enjoyed It</td>\n",
              "      <td>I don't care much for Dr. Seuss but after read...</td>\n",
              "    </tr>\n",
              "    <tr>\n",
              "      <th>18827</th>\n",
              "      <td>B000HJR45I</td>\n",
              "      <td>Finnegans Wake</td>\n",
              "      <td>NaN</td>\n",
              "      <td>A30TK6U7DNS82R</td>\n",
              "      <td>Kevin Killian</td>\n",
              "      <td>5/6</td>\n",
              "      <td>5.0</td>\n",
              "      <td>1216944000</td>\n",
              "      <td>Mean Girls</td>\n",
              "      <td>Haven't read FINNEGANS WAKE in many years, pro...</td>\n",
              "    </tr>\n",
              "    <tr>\n",
              "      <th>24972</th>\n",
              "      <td>B0007E2AAM</td>\n",
              "      <td>Cat Among the Pigeons (Red Badge Detective)</td>\n",
              "      <td>NaN</td>\n",
              "      <td>A30TK6U7DNS82R</td>\n",
              "      <td>Kevin Killian</td>\n",
              "      <td>2/2</td>\n",
              "      <td>5.0</td>\n",
              "      <td>1092268800</td>\n",
              "      <td>On Children She Could Write Nothing False</td>\n",
              "      <td>I first read this book when I was twelve, abou...</td>\n",
              "    </tr>\n",
              "    <tr>\n",
              "      <th>39810</th>\n",
              "      <td>1886350973</td>\n",
              "      <td>Blue Mound To 161</td>\n",
              "      <td>NaN</td>\n",
              "      <td>A30TK6U7DNS82R</td>\n",
              "      <td>Kevin Killian</td>\n",
              "      <td>4/5</td>\n",
              "      <td>5.0</td>\n",
              "      <td>1134345600</td>\n",
              "      <td>Notes from the Underground</td>\n",
              "      <td>A few years back I began seeing the name of \"G...</td>\n",
              "    </tr>\n",
              "    <tr>\n",
              "      <th>54225</th>\n",
              "      <td>B000GLJF0E</td>\n",
              "      <td>The Adventure of the Murdered Moths and Other ...</td>\n",
              "      <td>NaN</td>\n",
              "      <td>A30TK6U7DNS82R</td>\n",
              "      <td>Kevin Killian</td>\n",
              "      <td>17/17</td>\n",
              "      <td>5.0</td>\n",
              "      <td>1124323200</td>\n",
              "      <td>Challenge to the Reader</td>\n",
              "      <td>The two cousins who wrote as \"Ellery Queen\" we...</td>\n",
              "    </tr>\n",
              "    <tr>\n",
              "      <th>63523</th>\n",
              "      <td>B000L6Q9ZS</td>\n",
              "      <td>The Stranger</td>\n",
              "      <td>NaN</td>\n",
              "      <td>A30TK6U7DNS82R</td>\n",
              "      <td>Kevin Killian</td>\n",
              "      <td>2/8</td>\n",
              "      <td>5.0</td>\n",
              "      <td>1129161600</td>\n",
              "      <td>The Five Points Of Fear</td>\n",
              "      <td>I sometimes wonder, why assign this great nove...</td>\n",
              "    </tr>\n",
              "    <tr>\n",
              "      <th>80997</th>\n",
              "      <td>0393051374</td>\n",
              "      <td>Obsessive Genius: The Inner World of Marie Cur...</td>\n",
              "      <td>NaN</td>\n",
              "      <td>A30TK6U7DNS82R</td>\n",
              "      <td>Kevin Killian</td>\n",
              "      <td>0/2</td>\n",
              "      <td>5.0</td>\n",
              "      <td>1114041600</td>\n",
              "      <td>Obsssions Come In Many Colors</td>\n",
              "      <td>Barbara Goldsmith gets uncomfortably close to ...</td>\n",
              "    </tr>\n",
              "    <tr>\n",
              "      <th>82874</th>\n",
              "      <td>B000I1V51Y</td>\n",
              "      <td>Finnegan's Wake</td>\n",
              "      <td>NaN</td>\n",
              "      <td>A30TK6U7DNS82R</td>\n",
              "      <td>Kevin Killian</td>\n",
              "      <td>5/6</td>\n",
              "      <td>5.0</td>\n",
              "      <td>1216944000</td>\n",
              "      <td>Mean Girls</td>\n",
              "      <td>Haven't read FINNEGANS WAKE in many years, pro...</td>\n",
              "    </tr>\n",
              "    <tr>\n",
              "      <th>91029</th>\n",
              "      <td>1565119754</td>\n",
              "      <td>Three Nights in August: Strategy, Heartbreak, ...</td>\n",
              "      <td>NaN</td>\n",
              "      <td>A30TK6U7DNS82R</td>\n",
              "      <td>Kevin Killian</td>\n",
              "      <td>25/28</td>\n",
              "      <td>5.0</td>\n",
              "      <td>1115164800</td>\n",
              "      <td>Already Seems So Long Ago</td>\n",
              "      <td>Bissinger's book isn't as inspiring as FRIDAY ...</td>\n",
              "    </tr>\n",
              "    <tr>\n",
              "      <th>95439</th>\n",
              "      <td>B0007FIFSW</td>\n",
              "      <td>Seeing is believing (Pocket book)</td>\n",
              "      <td>NaN</td>\n",
              "      <td>A30TK6U7DNS82R</td>\n",
              "      <td>Kevin Killian</td>\n",
              "      <td>4/5</td>\n",
              "      <td>3.0</td>\n",
              "      <td>1155168000</td>\n",
              "      <td>Blonde Poison</td>\n",
              "      <td>First Carter Dickson book I read, back in fift...</td>\n",
              "    </tr>\n",
              "  </tbody>\n",
              "</table>\n",
              "</div>"
            ],
            "text/plain": [
              "               Id                                              Title  Price  \\\n",
              "1      0826414346                           Dr. Seuss: American Icon    NaN   \n",
              "18827  B000HJR45I                                     Finnegans Wake    NaN   \n",
              "24972  B0007E2AAM        Cat Among the Pigeons (Red Badge Detective)    NaN   \n",
              "39810  1886350973                                  Blue Mound To 161    NaN   \n",
              "54225  B000GLJF0E  The Adventure of the Murdered Moths and Other ...    NaN   \n",
              "63523  B000L6Q9ZS                                       The Stranger    NaN   \n",
              "80997  0393051374  Obsessive Genius: The Inner World of Marie Cur...    NaN   \n",
              "82874  B000I1V51Y                                    Finnegan's Wake    NaN   \n",
              "91029  1565119754  Three Nights in August: Strategy, Heartbreak, ...    NaN   \n",
              "95439  B0007FIFSW                  Seeing is believing (Pocket book)    NaN   \n",
              "\n",
              "              User_id    profileName review/helpfulness  review/score  \\\n",
              "1      A30TK6U7DNS82R  Kevin Killian              10/10           5.0   \n",
              "18827  A30TK6U7DNS82R  Kevin Killian                5/6           5.0   \n",
              "24972  A30TK6U7DNS82R  Kevin Killian                2/2           5.0   \n",
              "39810  A30TK6U7DNS82R  Kevin Killian                4/5           5.0   \n",
              "54225  A30TK6U7DNS82R  Kevin Killian              17/17           5.0   \n",
              "63523  A30TK6U7DNS82R  Kevin Killian                2/8           5.0   \n",
              "80997  A30TK6U7DNS82R  Kevin Killian                0/2           5.0   \n",
              "82874  A30TK6U7DNS82R  Kevin Killian                5/6           5.0   \n",
              "91029  A30TK6U7DNS82R  Kevin Killian              25/28           5.0   \n",
              "95439  A30TK6U7DNS82R  Kevin Killian                4/5           3.0   \n",
              "\n",
              "       review/time                             review/summary  \\\n",
              "1       1095724800                          Really Enjoyed It   \n",
              "18827   1216944000                                 Mean Girls   \n",
              "24972   1092268800  On Children She Could Write Nothing False   \n",
              "39810   1134345600                 Notes from the Underground   \n",
              "54225   1124323200                    Challenge to the Reader   \n",
              "63523   1129161600                    The Five Points Of Fear   \n",
              "80997   1114041600              Obsssions Come In Many Colors   \n",
              "82874   1216944000                                 Mean Girls   \n",
              "91029   1115164800                  Already Seems So Long Ago   \n",
              "95439   1155168000                              Blonde Poison   \n",
              "\n",
              "                                             review/text  \n",
              "1      I don't care much for Dr. Seuss but after read...  \n",
              "18827  Haven't read FINNEGANS WAKE in many years, pro...  \n",
              "24972  I first read this book when I was twelve, abou...  \n",
              "39810  A few years back I began seeing the name of \"G...  \n",
              "54225  The two cousins who wrote as \"Ellery Queen\" we...  \n",
              "63523  I sometimes wonder, why assign this great nove...  \n",
              "80997  Barbara Goldsmith gets uncomfortably close to ...  \n",
              "82874  Haven't read FINNEGANS WAKE in many years, pro...  \n",
              "91029  Bissinger's book isn't as inspiring as FRIDAY ...  \n",
              "95439  First Carter Dickson book I read, back in fift...  "
            ]
          },
          "execution_count": 58,
          "metadata": {},
          "output_type": "execute_result"
        }
      ],
      "source": [
        "# Pick user with ID 'A30TK6U7DNS82R' and check it's ratings\n",
        "df_ratings[df_ratings['User_id'] == 'A30TK6U7DNS82R'].head(10)"
      ]
    },
    {
      "cell_type": "code",
      "execution_count": 61,
      "metadata": {},
      "outputs": [
        {
          "name": "stdout",
          "output_type": "stream",
          "text": [
            "Mean of all reviews for this user: 4.315334773218143\n"
          ]
        }
      ],
      "source": [
        "print(f\"Mean of all reviews for this user: {df_ratings[df_ratings['User_id'] == 'A30TK6U7DNS82R']['review/score'].mean()}\")"
      ]
    },
    {
      "cell_type": "code",
      "execution_count": null,
      "metadata": {
        "_uuid": "0cb981abe36b30f8f27b4c5dc1b1d0e090431651",
        "id": "gk2qzmzsMdmD",
        "trusted": true
      },
      "outputs": [
        {
          "data": {
            "text/plain": [
              "Prediction(uid='A30TK6U7DNS82R', iid='0802841899', r_ui=None, est=4.215289333333334, details={'was_impossible': False})"
            ]
          },
          "execution_count": 56,
          "metadata": {},
          "output_type": "execute_result"
        }
      ],
      "source": [
        "# Check the estimated rating of the user with ID 'A30TK6U7DNS82R' on book '0802841899'\n",
        "# First Argument: User ID\n",
        "# Second Argument: Book ID\n",
        "svd.predict('A30TK6U7DNS82R', '0802841899')"
      ]
    },
    {
      "cell_type": "markdown",
      "metadata": {
        "_uuid": "50cf59d88c55c17de150e6a84a190e179bec2d33",
        "id": "9RHAe_cDMdmD"
      },
      "source": [
        "For book with ID 0802841899, we get an estimated prediction of **4.2**. One startling feature of this recommender system is that it doesn't care what the book is (or what it contains). It works purely on the basis of an assigned book ID and tries to predict ratings based on how the other users have predicted the book"
      ]
    }
  ],
  "metadata": {
    "colab": {
      "provenance": []
    },
    "kaggle": {
      "accelerator": "none",
      "dataSources": [
        {
          "datasetId": 138,
          "sourceId": 4508,
          "sourceType": "datasetVersion"
        },
        {
          "datasetId": 3405,
          "sourceId": 6663,
          "sourceType": "datasetVersion"
        }
      ],
      "dockerImageVersionId": 20477,
      "isGpuEnabled": false,
      "isInternetEnabled": false,
      "language": "python",
      "sourceType": "notebook"
    },
    "kernelspec": {
      "display_name": "aai_recom_sys",
      "language": "python",
      "name": "python3"
    },
    "language_info": {
      "codemirror_mode": {
        "name": "ipython",
        "version": 3
      },
      "file_extension": ".py",
      "mimetype": "text/x-python",
      "name": "python",
      "nbconvert_exporter": "python",
      "pygments_lexer": "ipython3",
      "version": "3.10.16"
    }
  },
  "nbformat": 4,
  "nbformat_minor": 0
}
