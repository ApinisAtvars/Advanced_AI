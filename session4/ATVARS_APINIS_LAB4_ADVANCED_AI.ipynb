{
 "cells": [
  {
   "cell_type": "markdown",
   "metadata": {},
   "source": [
    "# <div style=\"text-align: center;\"> Advanced AI 4 Assignment</div>\n",
    "\n",
    "By me: Atvars Apinis"
   ]
  },
  {
   "cell_type": "markdown",
   "metadata": {},
   "source": [
    "## <div style=\"text-align: center;\"> Part 1: Data Collection</div>"
   ]
  },
  {
   "cell_type": "markdown",
   "metadata": {},
   "source": [
    "### Question 1: What is wrong with the coding practice in this example?\n",
    "```py\n",
    "def show(data: pd.DataFrame):\n",
    "    df = data.copy()\n",
    "    df = df.style.format(precision=3)\n",
    "    df = df.background_gradient(cmap='Reds', axis=0)\n",
    "    display(df)\n",
    "\n",
    "def highlight_half(data: pd.DataFrame, axis=1, precision=3):\n",
    "    \n",
    "    s = data.shape[1] if axis else data.shape[0]\n",
    "    data_style = data.style.format(precision=precision)\n",
    "\n",
    "    def apply_style(val):\n",
    "        style1 = 'background-color: red; color: white'\n",
    "        style2 = 'background-color: blue; color: white'\n",
    "        return [style1 if x < s//2 else style2 for x in range(s)]\n",
    "\n",
    "    display(data_style.apply(apply_style, axis=axis))\n",
    "```"
   ]
  },
  {
   "cell_type": "markdown",
   "metadata": {},
   "source": [
    "- It's a bad practice to have a parameter for a function that doesn't use any parameters (`apply_style`)"
   ]
  }
 ],
 "metadata": {
  "language_info": {
   "name": "python"
  }
 },
 "nbformat": 4,
 "nbformat_minor": 2
}
